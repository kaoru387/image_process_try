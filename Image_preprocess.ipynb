{
  "nbformat": 4,
  "nbformat_minor": 0,
  "metadata": {
    "kernelspec": {
      "display_name": "Python 3",
      "language": "python",
      "name": "python3"
    },
    "language_info": {
      "codemirror_mode": {
        "name": "ipython",
        "version": 3
      },
      "file_extension": ".py",
      "mimetype": "text/x-python",
      "name": "python",
      "nbconvert_exporter": "python",
      "pygments_lexer": "ipython3",
      "version": "3.6.8"
    },
    "colab": {
      "name": "Image_preprocess.ipynb",
      "version": "0.3.2",
      "provenance": [],
      "include_colab_link": true
    }
  },
  "cells": [
    {
      "cell_type": "markdown",
      "metadata": {
        "id": "view-in-github",
        "colab_type": "text"
      },
      "source": [
        "<a href=\"https://colab.research.google.com/github/kaoru387/image_process_try/blob/master/Image_preprocess.ipynb\" target=\"_parent\"><img src=\"https://colab.research.google.com/assets/colab-badge.svg\" alt=\"Open In Colab\"/></a>"
      ]
    },
    {
      "cell_type": "markdown",
      "metadata": {
        "id": "4eDzt_jZAFMh",
        "colab_type": "text"
      },
      "source": [
        "# 画像処理の基礎\n",
        "1. 画像操作をしてみよう\n",
        "1. フィルタを学んでみよう"
      ]
    },
    {
      "cell_type": "markdown",
      "metadata": {
        "id": "xrQdF1u9AFMj",
        "colab_type": "text"
      },
      "source": [
        "### おまじない\n",
        "- scikit-imageのライブラリをインポートします\n",
        "    - `from skimage import io` : 主に画像読み込み関連\n",
        "    - `from skimage import transform` ： 画像操作関連"
      ]
    },
    {
      "cell_type": "code",
      "metadata": {
        "id": "EldTphMSAFMl",
        "colab_type": "code",
        "colab": {}
      },
      "source": [
        "import numpy as np\n",
        "from matplotlib import pyplot as plt\n",
        "%matplotlib inline\n",
        "\n",
        "\n",
        "from skimage import io\n",
        "from skimage import transform"
      ],
      "execution_count": 0,
      "outputs": []
    },
    {
      "cell_type": "markdown",
      "metadata": {
        "id": "YktZeA3GAFMp",
        "colab_type": "text"
      },
      "source": [
        "### 画像を読み込んでみよう\n",
        "- io.imread関数を使います"
      ]
    },
    {
      "cell_type": "code",
      "metadata": {
        "id": "jGb7cI09UNNK",
        "colab_type": "code",
        "colab": {
          "resources": {
            "http://localhost:8080/nbextensions/google.colab/files.js": {
              "data": "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",
              "ok": true,
              "headers": [
                [
                  "content-type",
                  "application/javascript"
                ]
              ],
              "status": 200,
              "status_text": ""
            }
          },
          "base_uri": "https://localhost:8080/",
          "height": 71
        },
        "outputId": "c70c6ac7-d51a-454e-e67b-cb8641cba8e4"
      },
      "source": [
        "from google.colab import files\n",
        "uploaded = files.upload()"
      ],
      "execution_count": 6,
      "outputs": [
        {
          "output_type": "display_data",
          "data": {
            "text/html": [
              "\n",
              "     <input type=\"file\" id=\"files-f1a1d2c8-cb2c-4dd7-b72f-e2427a97ba2b\" name=\"files[]\" multiple disabled />\n",
              "     <output id=\"result-f1a1d2c8-cb2c-4dd7-b72f-e2427a97ba2b\">\n",
              "      Upload widget is only available when the cell has been executed in the\n",
              "      current browser session. Please rerun this cell to enable.\n",
              "      </output>\n",
              "      <script src=\"/nbextensions/google.colab/files.js\"></script> "
            ],
            "text/plain": [
              "<IPython.core.display.HTML object>"
            ]
          },
          "metadata": {
            "tags": []
          }
        },
        {
          "output_type": "stream",
          "text": [
            "Saving cat.jpg to cat (1).jpg\n"
          ],
          "name": "stdout"
        }
      ]
    },
    {
      "cell_type": "code",
      "metadata": {
        "id": "SamMllztAFMp",
        "colab_type": "code",
        "colab": {}
      },
      "source": [
        "img = io.imread(\"./cat.jpg\")"
      ],
      "execution_count": 0,
      "outputs": []
    },
    {
      "cell_type": "code",
      "metadata": {
        "scrolled": true,
        "id": "iVmdEb1EAFMr",
        "colab_type": "code",
        "colab": {
          "base_uri": "https://localhost:8080/",
          "height": 850
        },
        "outputId": "823bf266-790c-48d6-8a67-b3105fe1f94a"
      },
      "source": [
        "img"
      ],
      "execution_count": 10,
      "outputs": [
        {
          "output_type": "execute_result",
          "data": {
            "text/plain": [
              "Array([[[222, 213, 216],\n",
              "        [222, 213, 216],\n",
              "        [222, 213, 216],\n",
              "        ...,\n",
              "        [203, 186, 166],\n",
              "        [203, 186, 166],\n",
              "        [203, 186, 166]],\n",
              "\n",
              "       [[222, 213, 216],\n",
              "        [222, 213, 216],\n",
              "        [222, 213, 216],\n",
              "        ...,\n",
              "        [203, 186, 166],\n",
              "        [203, 186, 166],\n",
              "        [203, 186, 166]],\n",
              "\n",
              "       [[222, 213, 216],\n",
              "        [222, 213, 216],\n",
              "        [222, 213, 216],\n",
              "        ...,\n",
              "        [203, 186, 166],\n",
              "        [203, 186, 166],\n",
              "        [203, 186, 166]],\n",
              "\n",
              "       ...,\n",
              "\n",
              "       [[114, 111, 106],\n",
              "        [115, 112, 107],\n",
              "        [117, 113, 110],\n",
              "        ...,\n",
              "        [ 38,  31,  23],\n",
              "        [ 38,  31,  23],\n",
              "        [ 38,  31,  23]],\n",
              "\n",
              "       [[112, 112, 110],\n",
              "        [114, 113, 109],\n",
              "        [117, 113, 110],\n",
              "        ...,\n",
              "        [ 39,  32,  24],\n",
              "        [ 38,  31,  23],\n",
              "        [ 38,  31,  23]],\n",
              "\n",
              "       [[112, 112, 110],\n",
              "        [114, 113, 109],\n",
              "        [117, 113, 110],\n",
              "        ...,\n",
              "        [ 39,  32,  24],\n",
              "        [ 38,  31,  23],\n",
              "        [ 38,  31,  23]]], dtype=uint8)"
            ]
          },
          "metadata": {
            "tags": []
          },
          "execution_count": 10
        }
      ]
    },
    {
      "cell_type": "markdown",
      "metadata": {
        "id": "vKML3q3_AFMt",
        "colab_type": "text"
      },
      "source": [
        "### 画像をnotebook上に表示してみよう\n",
        "- plt.imshow関数を使います"
      ]
    },
    {
      "cell_type": "code",
      "metadata": {
        "id": "dL_IRRusAFMt",
        "colab_type": "code",
        "colab": {
          "base_uri": "https://localhost:8080/",
          "height": 286
        },
        "outputId": "de4dc927-17dd-4f8a-fe64-0434f7c7d519"
      },
      "source": [
        "plt.imshow(img)"
      ],
      "execution_count": 11,
      "outputs": [
        {
          "output_type": "execute_result",
          "data": {
            "text/plain": [
              "<matplotlib.image.AxesImage at 0x7f9cb0e7ccc0>"
            ]
          },
          "metadata": {
            "tags": []
          },
          "execution_count": 11
        },
        {
          "output_type": "display_data",
          "data": {
            "image/png": "[encoded data removed]",
            "text/plain": [
              "<Figure size 432x288 with 1 Axes>"
            ]
          },
          "metadata": {
            "tags": []
          }
        }
      ]
    },
    {
      "cell_type": "markdown",
      "metadata": {
        "id": "NUg_aGWlAFMv",
        "colab_type": "text"
      },
      "source": [
        "### 画像の大きさを確かめてみよう"
      ]
    },
    {
      "cell_type": "code",
      "metadata": {
        "id": "aVW6fOLaAFMw",
        "colab_type": "code",
        "colab": {
          "base_uri": "https://localhost:8080/",
          "height": 34
        },
        "outputId": "c9f21102-b4b9-4f2c-8533-cc7949f65c92"
      },
      "source": [
        "img.shape"
      ],
      "execution_count": 12,
      "outputs": [
        {
          "output_type": "execute_result",
          "data": {
            "text/plain": [
              "(450, 452, 3)"
            ]
          },
          "metadata": {
            "tags": []
          },
          "execution_count": 12
        }
      ]
    },
    {
      "cell_type": "markdown",
      "metadata": {
        "id": "URrU714nAFMy",
        "colab_type": "text"
      },
      "source": [
        "### 一番左上の要素の値（画素値）を取り出そう\n",
        "- 縦軸の位置=0,横軸の位置=0のピクセルを抽出し、変数img_one_pxに代入しよう"
      ]
    },
    {
      "cell_type": "code",
      "metadata": {
        "id": "XRuwa0SgAFMz",
        "colab_type": "code",
        "colab": {
          "base_uri": "https://localhost:8080/",
          "height": 34
        },
        "outputId": "ed79c6d8-6aa5-44ee-85dc-7a53450c772c"
      },
      "source": [
        "img_one_px = img[0,0,:]\n",
        "img_one_px"
      ],
      "execution_count": 15,
      "outputs": [
        {
          "output_type": "execute_result",
          "data": {
            "text/plain": [
              "Array([222, 213, 216], dtype=uint8)"
            ]
          },
          "metadata": {
            "tags": []
          },
          "execution_count": 15
        }
      ]
    },
    {
      "cell_type": "code",
      "metadata": {
        "id": "S_WqRf6_AFM1",
        "colab_type": "code",
        "colab": {
          "base_uri": "https://localhost:8080/",
          "height": 34
        },
        "outputId": "3e366920-221d-4b46-c4d0-eac1638eb78e"
      },
      "source": [
        "img_one_px.shape"
      ],
      "execution_count": 16,
      "outputs": [
        {
          "output_type": "execute_result",
          "data": {
            "text/plain": [
              "(3,)"
            ]
          },
          "metadata": {
            "tags": []
          },
          "execution_count": 16
        }
      ]
    },
    {
      "cell_type": "markdown",
      "metadata": {
        "id": "Y_OnyJieAFM3",
        "colab_type": "text"
      },
      "source": [
        "### 取り出した色を表示しよう\n",
        "- plt.imshow関数でRGB画像を表示する為には(縦軸,横軸,3)という形でなければならない\n",
        "- 今回は1ピクセルだけなので、縦軸の大きさ=1,横軸の大きさ=1、つまり(1,1,3)に変形すればいい\n",
        "- 変形にはreshape関数を使い、変形した結果を変数oneに代入し、oneを表示しましょう"
      ]
    },
    {
      "cell_type": "code",
      "metadata": {
        "id": "Ywn_UVQKAFM4",
        "colab_type": "code",
        "colab": {
          "base_uri": "https://localhost:8080/",
          "height": 34
        },
        "outputId": "9386d534-b6a4-4a42-cc4d-775971a6a500"
      },
      "source": [
        "one = img_one_px.reshape(1,1,3)\n",
        "one.shape"
      ],
      "execution_count": 19,
      "outputs": [
        {
          "output_type": "execute_result",
          "data": {
            "text/plain": [
              "(1, 1, 3)"
            ]
          },
          "metadata": {
            "tags": []
          },
          "execution_count": 19
        }
      ]
    },
    {
      "cell_type": "code",
      "metadata": {
        "id": "D9BLtjN8AFM6",
        "colab_type": "code",
        "colab": {
          "base_uri": "https://localhost:8080/",
          "height": 286
        },
        "outputId": "cba3ed89-03f8-47d8-fd81-16f98be71934"
      },
      "source": [
        "plt.imshow(one)"
      ],
      "execution_count": 20,
      "outputs": [
        {
          "output_type": "execute_result",
          "data": {
            "text/plain": [
              "<matplotlib.image.AxesImage at 0x7f9cae61db00>"
            ]
          },
          "metadata": {
            "tags": []
          },
          "execution_count": 20
        },
        {
          "output_type": "display_data",
          "data": {
            "image/png": "[encoded data removed]",
            "text/plain": [
              "<Figure size 432x288 with 1 Axes>"
            ]
          },
          "metadata": {
            "tags": []
          }
        }
      ]
    },
    {
      "cell_type": "markdown",
      "metadata": {
        "id": "ZVC-SLK2AFM9",
        "colab_type": "text"
      },
      "source": [
        "### RGB情報を取り出してみよう\n",
        "- 画像全体のR値を取り出して変数rに代入しよう\n",
        "- 変数rを使い、R値の最大値と最小値も検出してみよう\n",
        "- 最大値・最小値はそれぞれmax関数とmin関数を使うことで求めることができます\n",
        "- 更に、変数rの要素全てを0.5倍し、変数r2に代入しよう\n",
        "    - numpyの配列では、「+,-,*,/」の算術記号を使うことで、配列内要素を一括で計算することができます"
      ]
    },
    {
      "cell_type": "code",
      "metadata": {
        "id": "tnR05ul1AFM9",
        "colab_type": "code",
        "colab": {}
      },
      "source": [
        "r = img[:,:,0]\n",
        "r"
      ],
      "execution_count": 0,
      "outputs": []
    },
    {
      "cell_type": "code",
      "metadata": {
        "id": "f9kN2BmaAFNB",
        "colab_type": "code",
        "colab": {}
      },
      "source": [
        "r.max()"
      ],
      "execution_count": 0,
      "outputs": []
    },
    {
      "cell_type": "code",
      "metadata": {
        "id": "HDQoqi1pAFNC",
        "colab_type": "code",
        "colab": {}
      },
      "source": [
        "r.min()"
      ],
      "execution_count": 0,
      "outputs": []
    },
    {
      "cell_type": "code",
      "metadata": {
        "id": "r4i7YE6wAFNE",
        "colab_type": "code",
        "colab": {}
      },
      "source": [
        "r2 = r*0.5"
      ],
      "execution_count": 0,
      "outputs": []
    },
    {
      "cell_type": "code",
      "metadata": {
        "id": "-ke9bS6SAFNG",
        "colab_type": "code",
        "colab": {}
      },
      "source": [
        "r2"
      ],
      "execution_count": 0,
      "outputs": []
    },
    {
      "cell_type": "markdown",
      "metadata": {
        "id": "--FdLX8UAFNI",
        "colab_type": "text"
      },
      "source": [
        "### 画像を切り出してみよう\n",
        "- 具体的には縦軸は100～300まで、横軸は200～400までを取り出し、結果を変数img2に代入しよう\n",
        "- その後、img2をimshow関数を使って表示しよう"
      ]
    },
    {
      "cell_type": "code",
      "metadata": {
        "id": "BxOufLrzAFNJ",
        "colab_type": "code",
        "colab": {}
      },
      "source": [
        "img2 = img[100:300,200:400,:]\n",
        "plt.imshow(img2)"
      ],
      "execution_count": 0,
      "outputs": []
    },
    {
      "cell_type": "markdown",
      "metadata": {
        "id": "K-BSe0tOAFNK",
        "colab_type": "text"
      },
      "source": [
        "### 二つの画像を並べて表示してみよう\n",
        "- 複数の画像を一片に表示する時にはplt.subplot関数を使い、下記のように記述します\n",
        "- `plt.subplot(縦列,横列,index)`"
      ]
    },
    {
      "cell_type": "code",
      "metadata": {
        "id": "8LixuntJAFNL",
        "colab_type": "code",
        "colab": {}
      },
      "source": [
        "# サイズの指定\n",
        "plt.figure(figsize=(8,2))\n",
        "\n",
        "# 1行3列の1番目\n",
        "plt.subplot(1,3,1)\n",
        "plt.text(0.5,0.5,\"1\")\n",
        "\n",
        "# 1行3列の2番目\n",
        "plt.subplot(1,3,2)\n",
        "plt.text(0.5,0.5,\"2\")\n",
        "\n",
        "# 1行3列の3番目\n",
        "plt.subplot(1,3,3)\n",
        "plt.text(0.5,0.5,\"3\")"
      ],
      "execution_count": 0,
      "outputs": []
    },
    {
      "cell_type": "markdown",
      "metadata": {
        "id": "JJAeMM2CAFNN",
        "colab_type": "text"
      },
      "source": [
        "- plt.subplot関数を使って、imgとimg2を1行2列で２つ並べて表示してみよう"
      ]
    },
    {
      "cell_type": "code",
      "metadata": {
        "id": "hsOiAv8dAFNN",
        "colab_type": "code",
        "colab": {}
      },
      "source": [
        "plt.subplot(1,2,1)\n",
        "plt.imshow(img)\n",
        "plt.subplot(1,2,2)\n",
        "plt.imshow(img2)"
      ],
      "execution_count": 0,
      "outputs": []
    },
    {
      "cell_type": "markdown",
      "metadata": {
        "id": "_waolFClAFNQ",
        "colab_type": "text"
      },
      "source": [
        "### 画像から100×100の画像をランダムな場所で切り出そう\n",
        "- 乱数はnp.random.randint関数で取得することができます\n",
        "    - `np.random.randint(a, b)`\n",
        "    - aの値以上、bの値未満のランダムな数を取得できる\n",
        "- seedと呼ばれる値を固定化すると、決まったパターンで乱数を取得することができます"
      ]
    },
    {
      "cell_type": "code",
      "metadata": {
        "id": "8htb_FC2AFNR",
        "colab_type": "code",
        "colab": {}
      },
      "source": [
        "np.random.seed = 8"
      ],
      "execution_count": 0,
      "outputs": []
    },
    {
      "cell_type": "code",
      "metadata": {
        "id": "AsFJO695AFNV",
        "colab_type": "code",
        "colab": {}
      },
      "source": [
        "np.random.randint(0,10)"
      ],
      "execution_count": 0,
      "outputs": []
    },
    {
      "cell_type": "markdown",
      "metadata": {
        "id": "dnPmmVHSAFNY",
        "colab_type": "text"
      },
      "source": [
        "- 画像の縦軸100、横軸100を切り出すことになります\n",
        "- 考え方としては下記のようになります\n",
        "    1. 軸の長さを取得する\n",
        "    1. 0以上（軸の長さ-100+1）未満までの乱数Aを取得する\n",
        "        - 例えば軸の長さが400だった場合、0~300までの値をランダムに取得する\n",
        "            - コードでは`np.random.randint(0,301)`\n",
        "            - indexは0から始まるので、注意\n",
        "    1. Aの値からA+100までを切り出せば、ちょうど大きさが100となる\n",
        "        - 乱数では0~300までをランダムに取得したので、A=0だったら0~99の区間、A=300だったら300~399の区間が取得できる"
      ]
    },
    {
      "cell_type": "code",
      "metadata": {
        "id": "hd1Bt3BEAFNY",
        "colab_type": "code",
        "colab": {}
      },
      "source": [
        "img_h = img.shape[0]\n",
        "h = np.random.randint(0,img_h-100+1)\n",
        "img_w = img.shape[1]\n",
        "w = np.random.randint(0,img_w-100+1)\n",
        "img_ = img[h:h+100,w:w+100,:]\n",
        "plt.imshow(img_)"
      ],
      "execution_count": 0,
      "outputs": []
    },
    {
      "cell_type": "code",
      "metadata": {
        "id": "EHF52CE2AFNa",
        "colab_type": "code",
        "colab": {}
      },
      "source": [
        "img_.shape"
      ],
      "execution_count": 0,
      "outputs": []
    },
    {
      "cell_type": "markdown",
      "metadata": {
        "id": "-j2_bJKPAFNc",
        "colab_type": "text"
      },
      "source": [
        "### 画像から200×200の画像をランダムな場所で6枚切り出し、2行3列で並べて表示しよう\n",
        "- 全体のサイズを`plt.figure()`を使って、`figsize=(8,5)`にしましょう\n",
        "- 出来る人はfor文を使った書き方も考えてみましょう"
      ]
    },
    {
      "cell_type": "code",
      "metadata": {
        "id": "KsX8gdK4AFNc",
        "colab_type": "code",
        "colab": {}
      },
      "source": [
        "img_h = img.shape[0]\n",
        "img_w = img.shape[1]\n",
        "\n",
        "plt.figure(figsize=(8,5))\n",
        "\n",
        "plt.subplot(2,3,1)\n",
        "h = np.random.randint(0,img_h-200+1)\n",
        "w = np.random.randint(0,img_w-200+1)\n",
        "tmp_img = img[h:h+200,w:w+200,:]\n",
        "plt.imshow(tmp_img)\n",
        "\n",
        "plt.subplot(2,3,2)\n",
        "h = np.random.randint(0,img_h-200+1)\n",
        "w = np.random.randint(0,img_w-200+1)\n",
        "tmp_img = img[h:h+200,w:w+200,:]\n",
        "plt.imshow(tmp_img)\n",
        "\n",
        "plt.subplot(2,3,3)\n",
        "h = np.random.randint(0,img_h-200+1)\n",
        "w = np.random.randint(0,img_w-200+1)\n",
        "tmp_img = img[h:h+200,w:w+200,:]\n",
        "plt.imshow(tmp_img)\n",
        "\n",
        "plt.subplot(2,3,4)\n",
        "h = np.random.randint(0,img_h-200+1)\n",
        "w = np.random.randint(0,img_w-200+1)\n",
        "tmp_img = img[h:h+200,w:w+200,:]\n",
        "plt.imshow(tmp_img)\n",
        "\n",
        "plt.subplot(2,3,5)\n",
        "h = np.random.randint(0,img_h-200+1)\n",
        "w = np.random.randint(0,img_w-200+1)\n",
        "tmp_img = img[h:h+200,w:w+200,:]\n",
        "plt.imshow(tmp_img)\n",
        "\n",
        "plt.subplot(2,3,6)\n",
        "h = np.random.randint(0,img_h-200+1)\n",
        "w = np.random.randint(0,img_w-200+1)\n",
        "tmp_img = img[h:h+200,w:w+200,:]\n",
        "plt.imshow(tmp_img)"
      ],
      "execution_count": 0,
      "outputs": []
    },
    {
      "cell_type": "markdown",
      "metadata": {
        "id": "GN_SGE7uAFNe",
        "colab_type": "text"
      },
      "source": [
        "- for文を使う場合"
      ]
    },
    {
      "cell_type": "code",
      "metadata": {
        "id": "YnjA6r-rAFNe",
        "colab_type": "code",
        "colab": {}
      },
      "source": [
        "img_h = img.shape[0]\n",
        "img_w = img.shape[1]\n",
        "\n",
        "plt.figure(figsize=(8,5))\n",
        "\n",
        "for i in range(6):\n",
        "    h = np.random.randint(0,img_h-200+1)\n",
        "    w = np.random.randint(0,img_w-200+1)\n",
        "    tmp_img = img[h:h+200,w:w+200,:]\n",
        "    \n",
        "    plt.subplot(2,3,i+1)\n",
        "    plt.imshow(tmp_img)"
      ],
      "execution_count": 0,
      "outputs": []
    },
    {
      "cell_type": "markdown",
      "metadata": {
        "id": "obkZ0sV8AFNg",
        "colab_type": "text"
      },
      "source": [
        "### 配列を反転してみよう\n",
        "- 画像データは配列データなので、配列の値を逆転することで、反転を実現することができます\n",
        "- 反転の実験の為、`np.array([1,2,3,4,5])`という配列を作成し、変数tmpに代入をしましょう"
      ]
    },
    {
      "cell_type": "code",
      "metadata": {
        "id": "dnqFGTVWAFNg",
        "colab_type": "code",
        "colab": {}
      },
      "source": [
        "tmp = np.array([1,2,3,4,5])\n",
        "tmp"
      ],
      "execution_count": 0,
      "outputs": []
    },
    {
      "cell_type": "markdown",
      "metadata": {
        "id": "O7AurN1hAFNh",
        "colab_type": "text"
      },
      "source": [
        "- 配列の反転は`[::-1]`と記述することで実現できます"
      ]
    },
    {
      "cell_type": "code",
      "metadata": {
        "id": "Rm8fzyW5AFNi",
        "colab_type": "code",
        "colab": {}
      },
      "source": [
        "tmp[::-1]"
      ],
      "execution_count": 0,
      "outputs": []
    },
    {
      "cell_type": "markdown",
      "metadata": {
        "id": "rNwwpgRVAFNj",
        "colab_type": "text"
      },
      "source": [
        "### 左右反転をしてみよう\n",
        "- 変数imgの横軸方向を反転することで、左右反転を行うことができます"
      ]
    },
    {
      "cell_type": "code",
      "metadata": {
        "id": "KU_c8LbOAFNj",
        "colab_type": "code",
        "colab": {}
      },
      "source": [
        "img3 = img[:,::-1,:]\n",
        "fig, ax = plt.subplots(1,2)\n",
        "ax[0].imshow(img)\n",
        "ax[1].imshow(img3)"
      ],
      "execution_count": 0,
      "outputs": []
    },
    {
      "cell_type": "markdown",
      "metadata": {
        "id": "YqX75IwMAFNm",
        "colab_type": "text"
      },
      "source": [
        "### 画像をリサイズしてみよう\n",
        "- リサイズをする際には、transform.resize関数を利用します\n",
        "- 具体的には`trainsform.resize(img,output_shape(縦長さ,横長さ))`と記述します"
      ]
    },
    {
      "cell_type": "code",
      "metadata": {
        "id": "RjlRu_bPAFNn",
        "colab_type": "code",
        "colab": {}
      },
      "source": [
        "img4 = transform.resize(img,output_shape=(100,100))\n",
        "plt.imshow(img4)"
      ],
      "execution_count": 0,
      "outputs": []
    },
    {
      "cell_type": "markdown",
      "metadata": {
        "id": "ISil4kF-AFNp",
        "colab_type": "text"
      },
      "source": [
        "### 画像を回転してみよう\n",
        "- 回転をする際には、transform.rotate関数を利用します\n",
        "- 具体的には`transform.rotate(img,angle=角度)`と記述します"
      ]
    },
    {
      "cell_type": "code",
      "metadata": {
        "id": "kaeBg6PQAFNq",
        "colab_type": "code",
        "colab": {}
      },
      "source": [
        "img5 = transform.rotate(img,angle=90)\n",
        "plt.imshow(img5)"
      ],
      "execution_count": 0,
      "outputs": []
    },
    {
      "cell_type": "markdown",
      "metadata": {
        "id": "Y2gJ35EbAFNr",
        "colab_type": "text"
      },
      "source": [
        "### 画像を平行移動してみよう\n",
        "- 平行移動をする際には、transform.AffineTransform関数を使います\n",
        "- 具体的には`transform.AffineTransform(translation=(左方向に動かす大きさ,上方向に動かす大きさ))`と記述します"
      ]
    },
    {
      "cell_type": "code",
      "metadata": {
        "id": "YGG2jbWIAFNs",
        "colab_type": "code",
        "colab": {}
      },
      "source": [
        "rot = transform.AffineTransform(translation=(40,40))\n",
        "img6 = transform.warp(img,rot)\n",
        "plt.imshow(img6)"
      ],
      "execution_count": 0,
      "outputs": []
    },
    {
      "cell_type": "markdown",
      "metadata": {
        "id": "AAGjBkQSAFNt",
        "colab_type": "text"
      },
      "source": [
        "## 演習\n",
        "1. 画像「dog.png」を読み込み、変数img2に代入しよう\n",
        "1. 変数img2の大きさを確認しよう\n",
        "1. 変数img2を横軸は100~500、縦軸は200~600で切り出しをして、変数img3に代入しよう\n",
        "1. 変数img3をnotebook上に表示しよう\n",
        "1. 変数img3のG値の最大値と最小値を求めよう\n",
        "1. 変数img3のR成分を30%, G成分を60%, B成分を10%を取り出し、それらの配列を足し合わせ（グレースケール化）、合成結果を変数img4に代入しよう\n",
        "1. 変数img4をnotebook上に表示しよう\n",
        "    - グレースケール画像を表示する時は、引数に`cmap=\"gray\"`を追記します\n",
        "1. 変数img4の画素値の最大値が1, 最小値が0となるように正規化し、変数img5に代入しよう\n",
        "1. 変数img3を上下反転させ変数6に代入しよう。更に元の画像が上、反転画像が下となるように、縦に並べて表示しよう\n",
        "1. 変数img3から300×300の画像をランダムな場所で切り出し、ランダムに回転させた画像を8枚作り、2行4列で表示しよう\n",
        "    - 画像の大きさは`figsize=(12,5)`としましょう"
      ]
    },
    {
      "cell_type": "code",
      "metadata": {
        "id": "xPwRmsN2AFNt",
        "colab_type": "code",
        "colab": {}
      },
      "source": [
        ""
      ],
      "execution_count": 0,
      "outputs": []
    },
    {
      "cell_type": "code",
      "metadata": {
        "id": "gWpVE0MdAFNv",
        "colab_type": "code",
        "colab": {}
      },
      "source": [
        ""
      ],
      "execution_count": 0,
      "outputs": []
    },
    {
      "cell_type": "code",
      "metadata": {
        "id": "6eWmsVa7AFNw",
        "colab_type": "code",
        "colab": {}
      },
      "source": [
        ""
      ],
      "execution_count": 0,
      "outputs": []
    },
    {
      "cell_type": "code",
      "metadata": {
        "id": "hPAooDUmAFNy",
        "colab_type": "code",
        "colab": {}
      },
      "source": [
        ""
      ],
      "execution_count": 0,
      "outputs": []
    },
    {
      "cell_type": "code",
      "metadata": {
        "id": "hHwYwj6pAFNz",
        "colab_type": "code",
        "colab": {}
      },
      "source": [
        ""
      ],
      "execution_count": 0,
      "outputs": []
    },
    {
      "cell_type": "code",
      "metadata": {
        "id": "QXRh1FDCAFN1",
        "colab_type": "code",
        "colab": {}
      },
      "source": [
        ""
      ],
      "execution_count": 0,
      "outputs": []
    },
    {
      "cell_type": "code",
      "metadata": {
        "id": "TnByw9KeAFN2",
        "colab_type": "code",
        "colab": {}
      },
      "source": [
        ""
      ],
      "execution_count": 0,
      "outputs": []
    },
    {
      "cell_type": "code",
      "metadata": {
        "id": "VTFNIu7-AFN4",
        "colab_type": "code",
        "colab": {}
      },
      "source": [
        ""
      ],
      "execution_count": 0,
      "outputs": []
    },
    {
      "cell_type": "code",
      "metadata": {
        "id": "v27wz2CdAFN6",
        "colab_type": "code",
        "colab": {}
      },
      "source": [
        ""
      ],
      "execution_count": 0,
      "outputs": []
    },
    {
      "cell_type": "code",
      "metadata": {
        "id": "_xRnpvUpAFN-",
        "colab_type": "code",
        "colab": {}
      },
      "source": [
        ""
      ],
      "execution_count": 0,
      "outputs": []
    },
    {
      "cell_type": "markdown",
      "metadata": {
        "id": "p9_GUOpsAFN_",
        "colab_type": "text"
      },
      "source": [
        "### フィルタリングをしてみよう\n",
        "- まずはフィルタリングに関するライブラリをインポートしましょう\n",
        "- 下記ライブラリをインポートしてください\n",
        "    - from skimage import filters\n",
        "    - from skimage import morphology as mor"
      ]
    },
    {
      "cell_type": "code",
      "metadata": {
        "id": "EIMkCSc9AFN_",
        "colab_type": "code",
        "colab": {}
      },
      "source": [
        "from skimage import filters\n",
        "from skimage import morphology as mor"
      ],
      "execution_count": 0,
      "outputs": []
    },
    {
      "cell_type": "markdown",
      "metadata": {
        "id": "62qYvYgYAFOB",
        "colab_type": "text"
      },
      "source": [
        "### ノイズがある画像を読み込んでみましょう\n",
        "- cat_noise_gray.pngは変数noz1に、cat_noise_color.pngは変数noz2に代入しましょう"
      ]
    },
    {
      "cell_type": "code",
      "metadata": {
        "id": "9yttXI-KAFOC",
        "colab_type": "code",
        "colab": {}
      },
      "source": [
        "noz1 = io.imread(\"cat_noise_gray.png\")\n",
        "noz2 = io.imread(\"cat_noise_color.png\")"
      ],
      "execution_count": 0,
      "outputs": []
    },
    {
      "cell_type": "markdown",
      "metadata": {
        "id": "_FOpGtWWAFOE",
        "colab_type": "text"
      },
      "source": [
        "### 2列に並べて画像を表示してみましょう\n",
        "- グレースケール画像を表示する時は、引数に`cmap=\"gray\"`を追記します"
      ]
    },
    {
      "cell_type": "code",
      "metadata": {
        "id": "VjnOKsxMAFOF",
        "colab_type": "code",
        "colab": {}
      },
      "source": [
        "plt.subplot(1,2,1)\n",
        "plt.imshow(noz1,cmap=\"gray\")\n",
        "plt.subplot(1,2,2)\n",
        "plt.imshow(noz2)"
      ],
      "execution_count": 0,
      "outputs": []
    },
    {
      "cell_type": "markdown",
      "metadata": {
        "id": "LB_74IKXAFOK",
        "colab_type": "text"
      },
      "source": [
        "### 平均化フィルタをかけてみましょう\n",
        "- グレースケール画像であるnoz1に平均化フィルタをかけ、結果を変数fil1に代入しましょう\n",
        "- 平均化フィルタをする際には、filters.rank.mean関数を利用します\n",
        "- 具体的には`filters.rank.mean(img,mor.square(3))`と記述します\n",
        "- mor.square(3)はフィルタの形であり、3*3の正方形という意味となります"
      ]
    },
    {
      "cell_type": "code",
      "metadata": {
        "id": "9RWGdTa9AFOL",
        "colab_type": "code",
        "colab": {}
      },
      "source": [
        "fil1 = filters.rank.mean(noz1,mor.square(3))\n",
        "plt.imshow(fil1,cmap=\"gray\")"
      ],
      "execution_count": 0,
      "outputs": []
    },
    {
      "cell_type": "markdown",
      "metadata": {
        "id": "Z5WdMyWrAFOM",
        "colab_type": "text"
      },
      "source": [
        "- フィルタのサイズを7*7の正方形にして平均化フィルタをかけ、結果を変数fil2に代入しましょう"
      ]
    },
    {
      "cell_type": "code",
      "metadata": {
        "id": "f1IhaPmhAFOM",
        "colab_type": "code",
        "colab": {}
      },
      "source": [
        "fil2 = filters.rank.mean(noz1,mor.square(7))\n",
        "plt.imshow(fil2,cmap=\"gray\")"
      ],
      "execution_count": 0,
      "outputs": []
    },
    {
      "cell_type": "markdown",
      "metadata": {
        "id": "MVBmCdb0AFOO",
        "colab_type": "text"
      },
      "source": [
        "### メディアンフィルタをかけてみましょう\n",
        "- グレースケール画像であるnoz1にメディアンフィルタをかけ、結果を変数fil3に代入しましょう\n",
        "- 平均化フィルタをする際には、filters.median関数を利用します\n",
        "- 具体的には`filters.median(img,mor.square(3))`と記述します"
      ]
    },
    {
      "cell_type": "code",
      "metadata": {
        "id": "0ibUyCJ2AFOP",
        "colab_type": "code",
        "colab": {}
      },
      "source": [
        "fil3 = filters.median(noz1,mor.square(3))\n",
        "plt.imshow(fil3,cmap=\"gray\")"
      ],
      "execution_count": 0,
      "outputs": []
    },
    {
      "cell_type": "markdown",
      "metadata": {
        "id": "U5OJFCoEAFOQ",
        "colab_type": "text"
      },
      "source": [
        "### ソーベルフィルタをかけてみよう\n",
        "- fil3にソーベルフィルタをかけ、結果を変数fil4に代入しましょう\n",
        "- ソーベルフィルタをする際には、filters.sobel関数を利用します\n",
        "- 具体的には`filters.sobel(img)`と記述します\n",
        "- 結果を可視化する際には見やすいように、`cmap=\"gray_r\"`としましょう"
      ]
    },
    {
      "cell_type": "code",
      "metadata": {
        "id": "OZjcUaidAFOQ",
        "colab_type": "code",
        "colab": {}
      },
      "source": [
        "fil4 = filters.sobel(fil3)\n",
        "plt.imshow(fil4, cmap=\"gray_r\")"
      ],
      "execution_count": 0,
      "outputs": []
    }
  ]
}