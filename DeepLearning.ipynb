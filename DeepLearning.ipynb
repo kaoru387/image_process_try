{
  "nbformat": 4,
  "nbformat_minor": 0,
  "metadata": {
    "kernelspec": {
      "name": "python3",
      "display_name": "Python 3"
    },
    "language_info": {
      "codemirror_mode": {
        "name": "ipython",
        "version": 3
      },
      "file_extension": ".py",
      "mimetype": "text/x-python",
      "name": "python",
      "nbconvert_exporter": "python",
      "pygments_lexer": "ipython3",
      "version": "3.6.5"
    },
    "colab": {
      "name": "DeepLearning.ipynb",
      "version": "0.3.2",
      "provenance": [],
      "include_colab_link": true
    },
    "accelerator": "GPU"
  },
  "cells": [
    {
      "cell_type": "markdown",
      "metadata": {
        "id": "view-in-github",
        "colab_type": "text"
      },
      "source": [
        "<a href=\"https://colab.research.google.com/github/kaoru387/image_process_try/blob/master/DeepLearning.ipynb\" target=\"_parent\"><img src=\"https://colab.research.google.com/assets/colab-badge.svg\" alt=\"Open In Colab\"/></a>"
      ]
    },
    {
      "cell_type": "markdown",
      "metadata": {
        "id": "TakVAwAj9Ytd",
        "colab_type": "text"
      },
      "source": [
        "# ディープラーニングの実装基礎\n",
        "1. ディープラーニングフレームワークの１つであるKerasの簡単な使い方を学んでみよう\n",
        "1. パラメータをチューニングして、予測精度の変化を確認しよう\n",
        "1. Data Augmentationを追加して、更に予測精度を改善してみよう"
      ]
    },
    {
      "cell_type": "markdown",
      "metadata": {
        "id": "OogmbTvY9Ytk",
        "colab_type": "text"
      },
      "source": [
        "### おまじない"
      ]
    },
    {
      "cell_type": "code",
      "metadata": {
        "id": "yUJx8SIJ962S",
        "colab_type": "code",
        "colab": {
          "base_uri": "https://localhost:8080/",
          "height": 34
        },
        "outputId": "1b2a9446-2b3d-4bf8-dc1b-bf1712d76ac8"
      },
      "source": [
        "!ls"
      ],
      "execution_count": 90,
      "outputs": [
        {
          "output_type": "stream",
          "text": [
            "drive  image_process_try  sample_data\n"
          ],
          "name": "stdout"
        }
      ]
    },
    {
      "cell_type": "code",
      "metadata": {
        "id": "14AFAXW5-ABz",
        "colab_type": "code",
        "colab": {
          "base_uri": "https://localhost:8080/",
          "height": 34
        },
        "outputId": "26b3031f-1be2-445b-d6f7-54f1eeb9ec97"
      },
      "source": [
        "import tensorflow as tf\n",
        "tf.test.gpu_device_name()"
      ],
      "execution_count": 91,
      "outputs": [
        {
          "output_type": "execute_result",
          "data": {
            "text/plain": [
              "'/device:GPU:0'"
            ]
          },
          "metadata": {
            "tags": []
          },
          "execution_count": 91
        }
      ]
    },
    {
      "cell_type": "code",
      "metadata": {
        "id": "kax3ab9_AQC-",
        "colab_type": "code",
        "colab": {
          "base_uri": "https://localhost:8080/",
          "height": 476
        },
        "outputId": "8c83b346-fc0b-4a7e-84ef-9fda2f75e025"
      },
      "source": [
        "from tensorflow.python.client import device_lib\n",
        "device_lib.list_local_devices()"
      ],
      "execution_count": 101,
      "outputs": [
        {
          "output_type": "execute_result",
          "data": {
            "text/plain": [
              "[name: \"/device:CPU:0\"\n",
              " device_type: \"CPU\"\n",
              " memory_limit: 268435456\n",
              " locality {\n",
              " }\n",
              " incarnation: 13290644210765157146, name: \"/device:XLA_CPU:0\"\n",
              " device_type: \"XLA_CPU\"\n",
              " memory_limit: 17179869184\n",
              " locality {\n",
              " }\n",
              " incarnation: 3598844082458473345\n",
              " physical_device_desc: \"device: XLA_CPU device\", name: \"/device:XLA_GPU:0\"\n",
              " device_type: \"XLA_GPU\"\n",
              " memory_limit: 17179869184\n",
              " locality {\n",
              " }\n",
              " incarnation: 11185717488703463829\n",
              " physical_device_desc: \"device: XLA_GPU device\", name: \"/device:GPU:0\"\n",
              " device_type: \"GPU\"\n",
              " memory_limit: 14892338381\n",
              " locality {\n",
              "   bus_id: 1\n",
              "   links {\n",
              "   }\n",
              " }\n",
              " incarnation: 2735664685231472337\n",
              " physical_device_desc: \"device: 0, name: Tesla T4, pci bus id: 0000:00:04.0, compute capability: 7.5\"]"
            ]
          },
          "metadata": {
            "tags": []
          },
          "execution_count": 101
        }
      ]
    },
    {
      "cell_type": "code",
      "metadata": {
        "id": "zde--GNX-QON",
        "colab_type": "code",
        "colab": {
          "base_uri": "https://localhost:8080/",
          "height": 34
        },
        "outputId": "6c0fec1c-5cff-4b51-c2d1-ba52c37f9f5f"
      },
      "source": [
        "!ls"
      ],
      "execution_count": 112,
      "outputs": [
        {
          "output_type": "stream",
          "text": [
            "image_process_try\n"
          ],
          "name": "stdout"
        }
      ]
    },
    {
      "cell_type": "code",
      "metadata": {
        "id": "wrxlg0d5COuM",
        "colab_type": "code",
        "colab": {
          "base_uri": "https://localhost:8080/",
          "height": 102
        },
        "outputId": "5d7ac155-b3bd-4f40-9a8a-0e95c0a86d88"
      },
      "source": [
        "!ls"
      ],
      "execution_count": 114,
      "outputs": [
        {
          "output_type": "stream",
          "text": [
            "cat.jpg\t\t\t dog.jpg\t\t      sample_submit.tsv\n",
            "cat_noise_color.png\t Image_preprocess_fill.ipynb  test_images\n",
            "cat_noise_gray.png\t Image_preprocess.ipynb       train_images\n",
            "DeepLearning_fill.ipynb  label_master.tsv\t      train_master.tsv\n",
            "DeepLearning.ipynb\t MLP.png\t\t      Untitled0.ipynb\n"
          ],
          "name": "stdout"
        }
      ]
    },
    {
      "cell_type": "code",
      "metadata": {
        "id": "qp78VFdl_Rlg",
        "colab_type": "code",
        "colab": {
          "base_uri": "https://localhost:8080/",
          "height": 153
        },
        "outputId": "e74402e4-c945-43d1-e96d-39f350bf1519"
      },
      "source": [
        "!git clone https://github.com/kaoru387/image_process_try.git"
      ],
      "execution_count": 105,
      "outputs": [
        {
          "output_type": "stream",
          "text": [
            "Cloning into 'image_process_try'...\n",
            "remote: Enumerating objects: 13028, done.\u001b[K\n",
            "remote: Counting objects: 100% (13028/13028), done.\u001b[K\n",
            "remote: Compressing objects: 100% (13026/13026), done.\u001b[K\n",
            "remote: Total 13028 (delta 7), reused 13017 (delta 2), pack-reused 0\n",
            "Receiving objects: 100% (13028/13028), 39.72 MiB | 7.29 MiB/s, done.\n",
            "Resolving deltas: 100% (7/7), done.\n",
            "Checking out files: 100% (13014/13014), done.\n"
          ],
          "name": "stdout"
        }
      ]
    },
    {
      "cell_type": "code",
      "metadata": {
        "id": "ZK7k6Sp19Ytl",
        "colab_type": "code",
        "colab": {}
      },
      "source": [
        "import numpy as np\n",
        "import pandas as pd\n",
        "from matplotlib import pyplot as plt\n",
        "%matplotlib inline\n",
        "\n",
        "from skimage import io"
      ],
      "execution_count": 0,
      "outputs": []
    },
    {
      "cell_type": "markdown",
      "metadata": {
        "id": "3PAVYD9O9Ytn",
        "colab_type": "text"
      },
      "source": [
        "### マスタデータを読み込んでみよう\n",
        "- 今回は[【練習問題】画像ラベリング（10種類）コンペ](https://signate.jp/competitions/133#abstract)に挑戦します\n",
        "- まずは画像データのラベルデータである`train_master.tsv`と`label_master.tsv`及び応募用サンプルファイル`sample_submit.tsv`を読み込みます"
      ]
    },
    {
      "cell_type": "code",
      "metadata": {
        "id": "C19N_ouN9Yto",
        "colab_type": "code",
        "colab": {
          "base_uri": "https://localhost:8080/",
          "height": 68
        },
        "outputId": "b018a2dd-2af1-42cc-a430-17b2d0002322"
      },
      "source": [
        "labels = pd.read_csv(\"train_master.tsv\", sep=\"\\t\")\n",
        "master = pd.read_csv(\"label_master.tsv\", sep=\"\\t\")\n",
        "sample = pd.read_csv(\"sample_submit.tsv\", header=None, sep=\"\\t\")\n",
        "print(labels.shape)\n",
        "print(master.shape)\n",
        "print(sample.shape)"
      ],
      "execution_count": 116,
      "outputs": [
        {
          "output_type": "stream",
          "text": [
            "(5000, 2)\n",
            "(10, 2)\n",
            "(8000, 2)\n"
          ],
          "name": "stdout"
        }
      ]
    },
    {
      "cell_type": "markdown",
      "metadata": {
        "id": "8xNBzkfL9Ytq",
        "colab_type": "text"
      },
      "source": [
        "### マスタデータの中身を確認してみよう"
      ]
    },
    {
      "cell_type": "code",
      "metadata": {
        "id": "vMMFgroP9Ytq",
        "colab_type": "code",
        "colab": {
          "base_uri": "https://localhost:8080/",
          "height": 204
        },
        "outputId": "8a618b87-2e4b-4f19-e5db-c1b8885660f0"
      },
      "source": [
        "labels.head()"
      ],
      "execution_count": 117,
      "outputs": [
        {
          "output_type": "execute_result",
          "data": {
            "text/html": [
              "<div>\n",
              "<style scoped>\n",
              "    .dataframe tbody tr th:only-of-type {\n",
              "        vertical-align: middle;\n",
              "    }\n",
              "\n",
              "    .dataframe tbody tr th {\n",
              "        vertical-align: top;\n",
              "    }\n",
              "\n",
              "    .dataframe thead th {\n",
              "        text-align: right;\n",
              "    }\n",
              "</style>\n",
              "<table border=\"1\" class=\"dataframe\">\n",
              "  <thead>\n",
              "    <tr style=\"text-align: right;\">\n",
              "      <th></th>\n",
              "      <th>file_name</th>\n",
              "      <th>label_id</th>\n",
              "    </tr>\n",
              "  </thead>\n",
              "  <tbody>\n",
              "    <tr>\n",
              "      <th>0</th>\n",
              "      <td>train_0.jpg</td>\n",
              "      <td>1</td>\n",
              "    </tr>\n",
              "    <tr>\n",
              "      <th>1</th>\n",
              "      <td>train_1.jpg</td>\n",
              "      <td>5</td>\n",
              "    </tr>\n",
              "    <tr>\n",
              "      <th>2</th>\n",
              "      <td>train_2.jpg</td>\n",
              "      <td>1</td>\n",
              "    </tr>\n",
              "    <tr>\n",
              "      <th>3</th>\n",
              "      <td>train_3.jpg</td>\n",
              "      <td>6</td>\n",
              "    </tr>\n",
              "    <tr>\n",
              "      <th>4</th>\n",
              "      <td>train_4.jpg</td>\n",
              "      <td>3</td>\n",
              "    </tr>\n",
              "  </tbody>\n",
              "</table>\n",
              "</div>"
            ],
            "text/plain": [
              "     file_name  label_id\n",
              "0  train_0.jpg         1\n",
              "1  train_1.jpg         5\n",
              "2  train_2.jpg         1\n",
              "3  train_3.jpg         6\n",
              "4  train_4.jpg         3"
            ]
          },
          "metadata": {
            "tags": []
          },
          "execution_count": 117
        }
      ]
    },
    {
      "cell_type": "code",
      "metadata": {
        "id": "rpzYQhJf9Yts",
        "colab_type": "code",
        "colab": {
          "base_uri": "https://localhost:8080/",
          "height": 359
        },
        "outputId": "9500d9a5-faa1-40d3-cec5-06ef6e32630b"
      },
      "source": [
        "master"
      ],
      "execution_count": 118,
      "outputs": [
        {
          "output_type": "execute_result",
          "data": {
            "text/html": [
              "<div>\n",
              "<style scoped>\n",
              "    .dataframe tbody tr th:only-of-type {\n",
              "        vertical-align: middle;\n",
              "    }\n",
              "\n",
              "    .dataframe tbody tr th {\n",
              "        vertical-align: top;\n",
              "    }\n",
              "\n",
              "    .dataframe thead th {\n",
              "        text-align: right;\n",
              "    }\n",
              "</style>\n",
              "<table border=\"1\" class=\"dataframe\">\n",
              "  <thead>\n",
              "    <tr style=\"text-align: right;\">\n",
              "      <th></th>\n",
              "      <th>label_id</th>\n",
              "      <th>label_name</th>\n",
              "    </tr>\n",
              "  </thead>\n",
              "  <tbody>\n",
              "    <tr>\n",
              "      <th>0</th>\n",
              "      <td>0</td>\n",
              "      <td>airplane</td>\n",
              "    </tr>\n",
              "    <tr>\n",
              "      <th>1</th>\n",
              "      <td>1</td>\n",
              "      <td>bird</td>\n",
              "    </tr>\n",
              "    <tr>\n",
              "      <th>2</th>\n",
              "      <td>2</td>\n",
              "      <td>car</td>\n",
              "    </tr>\n",
              "    <tr>\n",
              "      <th>3</th>\n",
              "      <td>3</td>\n",
              "      <td>cat</td>\n",
              "    </tr>\n",
              "    <tr>\n",
              "      <th>4</th>\n",
              "      <td>4</td>\n",
              "      <td>deer</td>\n",
              "    </tr>\n",
              "    <tr>\n",
              "      <th>5</th>\n",
              "      <td>5</td>\n",
              "      <td>dog</td>\n",
              "    </tr>\n",
              "    <tr>\n",
              "      <th>6</th>\n",
              "      <td>6</td>\n",
              "      <td>horse</td>\n",
              "    </tr>\n",
              "    <tr>\n",
              "      <th>7</th>\n",
              "      <td>7</td>\n",
              "      <td>monkey</td>\n",
              "    </tr>\n",
              "    <tr>\n",
              "      <th>8</th>\n",
              "      <td>8</td>\n",
              "      <td>ship</td>\n",
              "    </tr>\n",
              "    <tr>\n",
              "      <th>9</th>\n",
              "      <td>9</td>\n",
              "      <td>truck</td>\n",
              "    </tr>\n",
              "  </tbody>\n",
              "</table>\n",
              "</div>"
            ],
            "text/plain": [
              "   label_id label_name\n",
              "0         0   airplane\n",
              "1         1       bird\n",
              "2         2        car\n",
              "3         3        cat\n",
              "4         4       deer\n",
              "5         5        dog\n",
              "6         6      horse\n",
              "7         7     monkey\n",
              "8         8       ship\n",
              "9         9      truck"
            ]
          },
          "metadata": {
            "tags": []
          },
          "execution_count": 118
        }
      ]
    },
    {
      "cell_type": "code",
      "metadata": {
        "id": "-vxZeDnC9Ytu",
        "colab_type": "code",
        "colab": {
          "base_uri": "https://localhost:8080/",
          "height": 204
        },
        "outputId": "1233e2ab-47fc-4578-814b-1837737dcb01"
      },
      "source": [
        "sample.head()"
      ],
      "execution_count": 119,
      "outputs": [
        {
          "output_type": "execute_result",
          "data": {
            "text/html": [
              "<div>\n",
              "<style scoped>\n",
              "    .dataframe tbody tr th:only-of-type {\n",
              "        vertical-align: middle;\n",
              "    }\n",
              "\n",
              "    .dataframe tbody tr th {\n",
              "        vertical-align: top;\n",
              "    }\n",
              "\n",
              "    .dataframe thead th {\n",
              "        text-align: right;\n",
              "    }\n",
              "</style>\n",
              "<table border=\"1\" class=\"dataframe\">\n",
              "  <thead>\n",
              "    <tr style=\"text-align: right;\">\n",
              "      <th></th>\n",
              "      <th>0</th>\n",
              "      <th>1</th>\n",
              "    </tr>\n",
              "  </thead>\n",
              "  <tbody>\n",
              "    <tr>\n",
              "      <th>0</th>\n",
              "      <td>test_0.jpg</td>\n",
              "      <td>3</td>\n",
              "    </tr>\n",
              "    <tr>\n",
              "      <th>1</th>\n",
              "      <td>test_1.jpg</td>\n",
              "      <td>8</td>\n",
              "    </tr>\n",
              "    <tr>\n",
              "      <th>2</th>\n",
              "      <td>test_2.jpg</td>\n",
              "      <td>3</td>\n",
              "    </tr>\n",
              "    <tr>\n",
              "      <th>3</th>\n",
              "      <td>test_3.jpg</td>\n",
              "      <td>3</td>\n",
              "    </tr>\n",
              "    <tr>\n",
              "      <th>4</th>\n",
              "      <td>test_4.jpg</td>\n",
              "      <td>2</td>\n",
              "    </tr>\n",
              "  </tbody>\n",
              "</table>\n",
              "</div>"
            ],
            "text/plain": [
              "            0  1\n",
              "0  test_0.jpg  3\n",
              "1  test_1.jpg  8\n",
              "2  test_2.jpg  3\n",
              "3  test_3.jpg  3\n",
              "4  test_4.jpg  2"
            ]
          },
          "metadata": {
            "tags": []
          },
          "execution_count": 119
        }
      ]
    },
    {
      "cell_type": "markdown",
      "metadata": {
        "id": "tR0dUd9e9Ytw",
        "colab_type": "text"
      },
      "source": [
        "### 画像データを読み込んでみよう\n",
        "- `train_images`フォルダと`test_images`フォルダの中にある画像を全て読み込みましょう\n",
        "- ファイルの読み込む順番に気を付けましょう\n",
        "    - 何も考えずにos.listdir関数等で全てのファイル名を取ってきてから読み込むとlabelsデータの順番と不整合になります\n",
        "        - e.g) train_0.jpg, train_1.jpg, train_10.jpg, train_100.jpg ...\n",
        "    - その為、train_imagesからはlabelsデータから1行ずつファイル名（file_name）を取り出しながら読み込みを行います\n",
        "    - test_imagesも同様な理由で、sampleデータから1行ずつファイル名を取り出しながら読み込みを行います\n",
        "- 読み込んだ画像はそれぞれ`train_imgs`と`test_imgs`という変数に代入し、データ型はnumpyのarrayに変換しておきましょう"
      ]
    },
    {
      "cell_type": "code",
      "metadata": {
        "id": "enNXC1Tb9Ytx",
        "colab_type": "code",
        "colab": {
          "base_uri": "https://localhost:8080/",
          "height": 51
        },
        "outputId": "5abc4265-8f2b-42fa-d251-45319a9fddb9"
      },
      "source": [
        "train_imgs = []\n",
        "for fname in labels[\"file_name\"]:\n",
        "    path = \"./train_images/\" + fname\n",
        "    img = io.imread(path)\n",
        "    train_imgs.append(img)\n",
        "print(type(train_imgs))\n",
        "train_imgs = np.array(train_imgs)\n",
        "print(type(train_imgs), train_imgs.shape)"
      ],
      "execution_count": 120,
      "outputs": [
        {
          "output_type": "stream",
          "text": [
            "<class 'list'>\n",
            "<class 'numpy.ndarray'> (5000, 96, 96, 3)\n"
          ],
          "name": "stdout"
        }
      ]
    },
    {
      "cell_type": "code",
      "metadata": {
        "id": "G8uiFO7m9Ytz",
        "colab_type": "code",
        "colab": {
          "base_uri": "https://localhost:8080/",
          "height": 51
        },
        "outputId": "25d624f2-bb5f-4036-a411-a297328bc3a5"
      },
      "source": [
        "test_imgs = []\n",
        "for fname in sample[0]:\n",
        "    path = \"./test_images/\" + fname\n",
        "    img = io.imread(path)\n",
        "    test_imgs.append(img)\n",
        "print(type(test_imgs))\n",
        "test_imgs = np.array(test_imgs)\n",
        "print(type(test_imgs), test_imgs.shape)"
      ],
      "execution_count": 121,
      "outputs": [
        {
          "output_type": "stream",
          "text": [
            "<class 'list'>\n",
            "<class 'numpy.ndarray'> (8000, 96, 96, 3)\n"
          ],
          "name": "stdout"
        }
      ]
    },
    {
      "cell_type": "markdown",
      "metadata": {
        "id": "qTh1zJ6M9Yt1",
        "colab_type": "text"
      },
      "source": [
        "### 読み込んだ画像を可視化してみよう\n",
        "- 2行5列で読み込んだ画像を表示させましょう\n",
        "- 各画像のtitleには画像に付与されたラベルを付けます\n",
        "    - 手順としては変数labelsからi行目のlabel_idを取り出し、変数masterからlabel_idが一致するlabel_nameを取得します"
      ]
    },
    {
      "cell_type": "code",
      "metadata": {
        "id": "NH4tvT9g9Yt2",
        "colab_type": "code",
        "colab": {
          "base_uri": "https://localhost:8080/",
          "height": 328
        },
        "outputId": "2c998a85-c47d-4c92-e117-ab309a183ce8"
      },
      "source": [
        "plt.figure(figsize=(12,5))\n",
        "for i in range(10):\n",
        "    plt.subplot(2,5,i+1)\n",
        "    target_id = labels.loc[i,\"label_id\"] # target画像のlabel_idを取得\n",
        "    label = master[master[\"label_id\"]==target_id][\"label_name\"].values[0] # masterからlabel_idに対応するlabel_nameを取得\n",
        "    plt.title(label)\n",
        "    plt.imshow(train_imgs[i])"
      ],
      "execution_count": 122,
      "outputs": [
        {
          "output_type": "display_data",
          "data": {
            "image/png": "[encoded data removed]",
            "text/plain": [
              "<Figure size 864x360 with 10 Axes>"
            ]
          },
          "metadata": {
            "tags": []
          }
        }
      ]
    },
    {
      "cell_type": "markdown",
      "metadata": {
        "id": "Mo9eK-Y99Yt5",
        "colab_type": "text"
      },
      "source": [
        "### ラベルの分布を確認しておきましょう"
      ]
    },
    {
      "cell_type": "code",
      "metadata": {
        "id": "XIqTIAtc9Yt6",
        "colab_type": "code",
        "colab": {
          "base_uri": "https://localhost:8080/",
          "height": 204
        },
        "outputId": "4309ae81-0ac3-4828-f685-2a8ca9744737"
      },
      "source": [
        "labels[\"label_id\"].value_counts()"
      ],
      "execution_count": 123,
      "outputs": [
        {
          "output_type": "execute_result",
          "data": {
            "text/plain": [
              "7    500\n",
              "3    500\n",
              "6    500\n",
              "2    500\n",
              "9    500\n",
              "5    500\n",
              "1    500\n",
              "8    500\n",
              "4    500\n",
              "0    500\n",
              "Name: label_id, dtype: int64"
            ]
          },
          "metadata": {
            "tags": []
          },
          "execution_count": 123
        }
      ]
    },
    {
      "cell_type": "markdown",
      "metadata": {
        "id": "CiPuIWeS9Yt8",
        "colab_type": "text"
      },
      "source": [
        "### 画像データの画素値を正規化しておきましょう\n",
        "- DeepLearningで画像を学習させる前準備として画素値を正規化しておきましょう\n",
        "- 現在は画素値の値域が0~255である為、0~1となるように正規化をしておきます\n",
        "- 正規化をすることで、DeepLearningの学習を円滑に行う効果を期待できます"
      ]
    },
    {
      "cell_type": "code",
      "metadata": {
        "id": "MtoU-tXu9Yt8",
        "colab_type": "code",
        "colab": {
          "base_uri": "https://localhost:8080/",
          "height": 1000
        },
        "outputId": "cd86f11b-6458-4cc3-b380-47fad125a40a"
      },
      "source": [
        "train_imgs"
      ],
      "execution_count": 124,
      "outputs": [
        {
          "output_type": "execute_result",
          "data": {
            "text/plain": [
              "array([[[[146, 141, 109],\n",
              "         [147, 142, 110],\n",
              "         [148, 143, 111],\n",
              "         ...,\n",
              "         [166, 160, 126],\n",
              "         [165, 159, 125],\n",
              "         [164, 158, 124]],\n",
              "\n",
              "        [[146, 141, 109],\n",
              "         [146, 141, 109],\n",
              "         [147, 142, 110],\n",
              "         ...,\n",
              "         [166, 160, 126],\n",
              "         [165, 159, 125],\n",
              "         [164, 158, 124]],\n",
              "\n",
              "        [[146, 141, 109],\n",
              "         [146, 141, 109],\n",
              "         [147, 142, 110],\n",
              "         ...,\n",
              "         [165, 159, 125],\n",
              "         [164, 158, 124],\n",
              "         [164, 158, 124]],\n",
              "\n",
              "        ...,\n",
              "\n",
              "        [[131, 115,  81],\n",
              "         [128, 112,  78],\n",
              "         [120, 104,  70],\n",
              "         ...,\n",
              "         [141, 124, 104],\n",
              "         [151, 134, 116],\n",
              "         [151, 134, 118]],\n",
              "\n",
              "        [[140, 124,  90],\n",
              "         [124, 108,  74],\n",
              "         [118, 102,  68],\n",
              "         ...,\n",
              "         [149, 132, 114],\n",
              "         [142, 125, 109],\n",
              "         [131, 113,  99]],\n",
              "\n",
              "        [[139, 123,  89],\n",
              "         [112,  96,  62],\n",
              "         [109,  93,  59],\n",
              "         ...,\n",
              "         [149, 132, 114],\n",
              "         [147, 129, 115],\n",
              "         [142, 124, 110]]],\n",
              "\n",
              "\n",
              "       [[[137, 137,  77],\n",
              "         [134, 134,  74],\n",
              "         [136, 137,  79],\n",
              "         ...,\n",
              "         [136, 141,  75],\n",
              "         [135, 140,  73],\n",
              "         [138, 143,  76]],\n",
              "\n",
              "        [[129, 130,  70],\n",
              "         [129, 130,  72],\n",
              "         [132, 136,  77],\n",
              "         ...,\n",
              "         [146, 151,  85],\n",
              "         [144, 149,  83],\n",
              "         [144, 149,  83]],\n",
              "\n",
              "        [[133, 139,  79],\n",
              "         [133, 139,  79],\n",
              "         [132, 140,  80],\n",
              "         ...,\n",
              "         [153, 155,  92],\n",
              "         [150, 152,  87],\n",
              "         [147, 149,  84]],\n",
              "\n",
              "        ...,\n",
              "\n",
              "        [[174, 162, 122],\n",
              "         [120, 108,  68],\n",
              "         [128, 113,  74],\n",
              "         ...,\n",
              "         [195, 181, 132],\n",
              "         [163, 149, 100],\n",
              "         [150, 136,  87]],\n",
              "\n",
              "        [[142, 133,  94],\n",
              "         [109,  97,  59],\n",
              "         [115,  99,  63],\n",
              "         ...,\n",
              "         [152, 140,  90],\n",
              "         [133, 119,  70],\n",
              "         [158, 144,  95]],\n",
              "\n",
              "        [[133, 124,  85],\n",
              "         [163, 151, 113],\n",
              "         [149, 133,  97],\n",
              "         ...,\n",
              "         [155, 143,  93],\n",
              "         [136, 122,  73],\n",
              "         [189, 175, 126]]],\n",
              "\n",
              "\n",
              "       [[[176, 222, 123],\n",
              "         [164, 208, 111],\n",
              "         [148, 191,  99],\n",
              "         ...,\n",
              "         [ 68, 119,  50],\n",
              "         [ 60, 113,  45],\n",
              "         [ 30,  83,  15]],\n",
              "\n",
              "        [[157, 203, 105],\n",
              "         [152, 197, 102],\n",
              "         [176, 219, 127],\n",
              "         ...,\n",
              "         [ 46,  97,  28],\n",
              "         [ 56, 109,  41],\n",
              "         [ 53, 106,  38]],\n",
              "\n",
              "        [[169, 214, 119],\n",
              "         [195, 240, 147],\n",
              "         [132, 177,  86],\n",
              "         ...,\n",
              "         [ 34,  86,  14],\n",
              "         [ 46,  99,  29],\n",
              "         [ 60, 113,  43]],\n",
              "\n",
              "        ...,\n",
              "\n",
              "        [[148, 157, 138],\n",
              "         [149, 158, 139],\n",
              "         [161, 170, 151],\n",
              "         ...,\n",
              "         [127, 157, 133],\n",
              "         [121, 151, 127],\n",
              "         [ 98, 130, 107]],\n",
              "\n",
              "        [[158, 159, 143],\n",
              "         [157, 160, 143],\n",
              "         [171, 174, 157],\n",
              "         ...,\n",
              "         [124, 152, 129],\n",
              "         [112, 142, 118],\n",
              "         [ 92, 124, 101]],\n",
              "\n",
              "        [[167, 164, 149],\n",
              "         [168, 165, 150],\n",
              "         [183, 181, 166],\n",
              "         ...,\n",
              "         [117, 145, 122],\n",
              "         [113, 143, 119],\n",
              "         [106, 138, 115]]],\n",
              "\n",
              "\n",
              "       ...,\n",
              "\n",
              "\n",
              "       [[[101, 123, 180],\n",
              "         [101, 123, 180],\n",
              "         [102, 124, 181],\n",
              "         ...,\n",
              "         [222, 205, 189],\n",
              "         [220, 204, 189],\n",
              "         [215, 199, 186]],\n",
              "\n",
              "        [[101, 123, 180],\n",
              "         [102, 124, 181],\n",
              "         [102, 124, 181],\n",
              "         ...,\n",
              "         [222, 205, 187],\n",
              "         [222, 206, 191],\n",
              "         [219, 203, 188]],\n",
              "\n",
              "        [[101, 123, 180],\n",
              "         [102, 124, 181],\n",
              "         [102, 124, 181],\n",
              "         ...,\n",
              "         [220, 205, 184],\n",
              "         [221, 205, 189],\n",
              "         [220, 204, 188]],\n",
              "\n",
              "        ...,\n",
              "\n",
              "        [[184, 171, 155],\n",
              "         [175, 162, 154],\n",
              "         [161, 148, 157],\n",
              "         ...,\n",
              "         [110, 132,  96],\n",
              "         [108, 130,  94],\n",
              "         [108, 130,  94]],\n",
              "\n",
              "        [[185, 172, 153],\n",
              "         [175, 162, 153],\n",
              "         [159, 146, 153],\n",
              "         ...,\n",
              "         [109, 133,  99],\n",
              "         [108, 132,  98],\n",
              "         [108, 132,  98]],\n",
              "\n",
              "        [[184, 171, 152],\n",
              "         [173, 161, 149],\n",
              "         [157, 144, 151],\n",
              "         ...,\n",
              "         [110, 134, 102],\n",
              "         [109, 133,  99],\n",
              "         [110, 134, 100]]],\n",
              "\n",
              "\n",
              "       [[[132, 138, 110],\n",
              "         [133, 139, 111],\n",
              "         [134, 140, 112],\n",
              "         ...,\n",
              "         [145, 141,  93],\n",
              "         [150, 144,  94],\n",
              "         [161, 155, 103]],\n",
              "\n",
              "        [[130, 135, 112],\n",
              "         [132, 137, 114],\n",
              "         [133, 138, 115],\n",
              "         ...,\n",
              "         [212, 208, 161],\n",
              "         [177, 171, 123],\n",
              "         [178, 172, 122]],\n",
              "\n",
              "        [[130, 135, 115],\n",
              "         [132, 137, 117],\n",
              "         [134, 139, 119],\n",
              "         ...,\n",
              "         [190, 185, 143],\n",
              "         [202, 195, 151],\n",
              "         [184, 177, 131]],\n",
              "\n",
              "        ...,\n",
              "\n",
              "        [[145, 144, 124],\n",
              "         [131, 130, 110],\n",
              "         [118, 115,  98],\n",
              "         ...,\n",
              "         [194, 190, 163],\n",
              "         [143, 139, 114],\n",
              "         [198, 193, 171]],\n",
              "\n",
              "        [[230, 228, 213],\n",
              "         [214, 212, 197],\n",
              "         [200, 197, 182],\n",
              "         ...,\n",
              "         [171, 167, 138],\n",
              "         [113, 109,  84],\n",
              "         [188, 184, 159]],\n",
              "\n",
              "        [[186, 184, 169],\n",
              "         [187, 185, 172],\n",
              "         [198, 194, 182],\n",
              "         ...,\n",
              "         [148, 144, 115],\n",
              "         [170, 166, 139],\n",
              "         [188, 184, 159]]],\n",
              "\n",
              "\n",
              "       [[[200, 212, 198],\n",
              "         [203, 214, 200],\n",
              "         [203, 214, 200],\n",
              "         ...,\n",
              "         [174, 157, 137],\n",
              "         [ 79,  64,  45],\n",
              "         [180, 165, 146]],\n",
              "\n",
              "        [[209, 220, 206],\n",
              "         [208, 219, 205],\n",
              "         [207, 215, 202],\n",
              "         ...,\n",
              "         [163, 146, 126],\n",
              "         [ 83,  68,  49],\n",
              "         [186, 171, 152]],\n",
              "\n",
              "        [[209, 217, 204],\n",
              "         [207, 213, 201],\n",
              "         [206, 212, 198],\n",
              "         ...,\n",
              "         [144, 127, 107],\n",
              "         [ 94,  79,  60],\n",
              "         [200, 185, 166]],\n",
              "\n",
              "        ...,\n",
              "\n",
              "        [[180, 175, 156],\n",
              "         [183, 178, 159],\n",
              "         [185, 180, 161],\n",
              "         ...,\n",
              "         [236, 201, 169],\n",
              "         [230, 208, 171],\n",
              "         [223, 209, 170]],\n",
              "\n",
              "        [[180, 175, 156],\n",
              "         [183, 178, 159],\n",
              "         [186, 181, 162],\n",
              "         ...,\n",
              "         [229, 196, 165],\n",
              "         [225, 205, 170],\n",
              "         [222, 210, 172]],\n",
              "\n",
              "        [[180, 175, 156],\n",
              "         [184, 179, 160],\n",
              "         [186, 181, 162],\n",
              "         ...,\n",
              "         [225, 192, 161],\n",
              "         [222, 204, 168],\n",
              "         [219, 210, 171]]]], dtype=uint8)"
            ]
          },
          "metadata": {
            "tags": []
          },
          "execution_count": 124
        }
      ]
    },
    {
      "cell_type": "code",
      "metadata": {
        "id": "Ti5xcquM9Yt-",
        "colab_type": "code",
        "colab": {}
      },
      "source": [
        "train_imgs = train_imgs / 255\n",
        "test_imgs = test_imgs / 255"
      ],
      "execution_count": 0,
      "outputs": []
    },
    {
      "cell_type": "code",
      "metadata": {
        "id": "GPJZWHgW9YuA",
        "colab_type": "code",
        "colab": {
          "base_uri": "https://localhost:8080/",
          "height": 1000
        },
        "outputId": "7aeb8f24-b4bf-49f3-baa6-ac7ed5053c29"
      },
      "source": [
        "train_imgs"
      ],
      "execution_count": 126,
      "outputs": [
        {
          "output_type": "execute_result",
          "data": {
            "text/plain": [
              "array([[[[0.57254902, 0.55294118, 0.42745098],\n",
              "         [0.57647059, 0.55686275, 0.43137255],\n",
              "         [0.58039216, 0.56078431, 0.43529412],\n",
              "         ...,\n",
              "         [0.65098039, 0.62745098, 0.49411765],\n",
              "         [0.64705882, 0.62352941, 0.49019608],\n",
              "         [0.64313725, 0.61960784, 0.48627451]],\n",
              "\n",
              "        [[0.57254902, 0.55294118, 0.42745098],\n",
              "         [0.57254902, 0.55294118, 0.42745098],\n",
              "         [0.57647059, 0.55686275, 0.43137255],\n",
              "         ...,\n",
              "         [0.65098039, 0.62745098, 0.49411765],\n",
              "         [0.64705882, 0.62352941, 0.49019608],\n",
              "         [0.64313725, 0.61960784, 0.48627451]],\n",
              "\n",
              "        [[0.57254902, 0.55294118, 0.42745098],\n",
              "         [0.57254902, 0.55294118, 0.42745098],\n",
              "         [0.57647059, 0.55686275, 0.43137255],\n",
              "         ...,\n",
              "         [0.64705882, 0.62352941, 0.49019608],\n",
              "         [0.64313725, 0.61960784, 0.48627451],\n",
              "         [0.64313725, 0.61960784, 0.48627451]],\n",
              "\n",
              "        ...,\n",
              "\n",
              "        [[0.51372549, 0.45098039, 0.31764706],\n",
              "         [0.50196078, 0.43921569, 0.30588235],\n",
              "         [0.47058824, 0.40784314, 0.2745098 ],\n",
              "         ...,\n",
              "         [0.55294118, 0.48627451, 0.40784314],\n",
              "         [0.59215686, 0.5254902 , 0.45490196],\n",
              "         [0.59215686, 0.5254902 , 0.4627451 ]],\n",
              "\n",
              "        [[0.54901961, 0.48627451, 0.35294118],\n",
              "         [0.48627451, 0.42352941, 0.29019608],\n",
              "         [0.4627451 , 0.4       , 0.26666667],\n",
              "         ...,\n",
              "         [0.58431373, 0.51764706, 0.44705882],\n",
              "         [0.55686275, 0.49019608, 0.42745098],\n",
              "         [0.51372549, 0.44313725, 0.38823529]],\n",
              "\n",
              "        [[0.54509804, 0.48235294, 0.34901961],\n",
              "         [0.43921569, 0.37647059, 0.24313725],\n",
              "         [0.42745098, 0.36470588, 0.23137255],\n",
              "         ...,\n",
              "         [0.58431373, 0.51764706, 0.44705882],\n",
              "         [0.57647059, 0.50588235, 0.45098039],\n",
              "         [0.55686275, 0.48627451, 0.43137255]]],\n",
              "\n",
              "\n",
              "       [[[0.5372549 , 0.5372549 , 0.30196078],\n",
              "         [0.5254902 , 0.5254902 , 0.29019608],\n",
              "         [0.53333333, 0.5372549 , 0.30980392],\n",
              "         ...,\n",
              "         [0.53333333, 0.55294118, 0.29411765],\n",
              "         [0.52941176, 0.54901961, 0.28627451],\n",
              "         [0.54117647, 0.56078431, 0.29803922]],\n",
              "\n",
              "        [[0.50588235, 0.50980392, 0.2745098 ],\n",
              "         [0.50588235, 0.50980392, 0.28235294],\n",
              "         [0.51764706, 0.53333333, 0.30196078],\n",
              "         ...,\n",
              "         [0.57254902, 0.59215686, 0.33333333],\n",
              "         [0.56470588, 0.58431373, 0.3254902 ],\n",
              "         [0.56470588, 0.58431373, 0.3254902 ]],\n",
              "\n",
              "        [[0.52156863, 0.54509804, 0.30980392],\n",
              "         [0.52156863, 0.54509804, 0.30980392],\n",
              "         [0.51764706, 0.54901961, 0.31372549],\n",
              "         ...,\n",
              "         [0.6       , 0.60784314, 0.36078431],\n",
              "         [0.58823529, 0.59607843, 0.34117647],\n",
              "         [0.57647059, 0.58431373, 0.32941176]],\n",
              "\n",
              "        ...,\n",
              "\n",
              "        [[0.68235294, 0.63529412, 0.47843137],\n",
              "         [0.47058824, 0.42352941, 0.26666667],\n",
              "         [0.50196078, 0.44313725, 0.29019608],\n",
              "         ...,\n",
              "         [0.76470588, 0.70980392, 0.51764706],\n",
              "         [0.63921569, 0.58431373, 0.39215686],\n",
              "         [0.58823529, 0.53333333, 0.34117647]],\n",
              "\n",
              "        [[0.55686275, 0.52156863, 0.36862745],\n",
              "         [0.42745098, 0.38039216, 0.23137255],\n",
              "         [0.45098039, 0.38823529, 0.24705882],\n",
              "         ...,\n",
              "         [0.59607843, 0.54901961, 0.35294118],\n",
              "         [0.52156863, 0.46666667, 0.2745098 ],\n",
              "         [0.61960784, 0.56470588, 0.37254902]],\n",
              "\n",
              "        [[0.52156863, 0.48627451, 0.33333333],\n",
              "         [0.63921569, 0.59215686, 0.44313725],\n",
              "         [0.58431373, 0.52156863, 0.38039216],\n",
              "         ...,\n",
              "         [0.60784314, 0.56078431, 0.36470588],\n",
              "         [0.53333333, 0.47843137, 0.28627451],\n",
              "         [0.74117647, 0.68627451, 0.49411765]]],\n",
              "\n",
              "\n",
              "       [[[0.69019608, 0.87058824, 0.48235294],\n",
              "         [0.64313725, 0.81568627, 0.43529412],\n",
              "         [0.58039216, 0.74901961, 0.38823529],\n",
              "         ...,\n",
              "         [0.26666667, 0.46666667, 0.19607843],\n",
              "         [0.23529412, 0.44313725, 0.17647059],\n",
              "         [0.11764706, 0.3254902 , 0.05882353]],\n",
              "\n",
              "        [[0.61568627, 0.79607843, 0.41176471],\n",
              "         [0.59607843, 0.77254902, 0.4       ],\n",
              "         [0.69019608, 0.85882353, 0.49803922],\n",
              "         ...,\n",
              "         [0.18039216, 0.38039216, 0.10980392],\n",
              "         [0.21960784, 0.42745098, 0.16078431],\n",
              "         [0.20784314, 0.41568627, 0.14901961]],\n",
              "\n",
              "        [[0.6627451 , 0.83921569, 0.46666667],\n",
              "         [0.76470588, 0.94117647, 0.57647059],\n",
              "         [0.51764706, 0.69411765, 0.3372549 ],\n",
              "         ...,\n",
              "         [0.13333333, 0.3372549 , 0.05490196],\n",
              "         [0.18039216, 0.38823529, 0.11372549],\n",
              "         [0.23529412, 0.44313725, 0.16862745]],\n",
              "\n",
              "        ...,\n",
              "\n",
              "        [[0.58039216, 0.61568627, 0.54117647],\n",
              "         [0.58431373, 0.61960784, 0.54509804],\n",
              "         [0.63137255, 0.66666667, 0.59215686],\n",
              "         ...,\n",
              "         [0.49803922, 0.61568627, 0.52156863],\n",
              "         [0.4745098 , 0.59215686, 0.49803922],\n",
              "         [0.38431373, 0.50980392, 0.41960784]],\n",
              "\n",
              "        [[0.61960784, 0.62352941, 0.56078431],\n",
              "         [0.61568627, 0.62745098, 0.56078431],\n",
              "         [0.67058824, 0.68235294, 0.61568627],\n",
              "         ...,\n",
              "         [0.48627451, 0.59607843, 0.50588235],\n",
              "         [0.43921569, 0.55686275, 0.4627451 ],\n",
              "         [0.36078431, 0.48627451, 0.39607843]],\n",
              "\n",
              "        [[0.65490196, 0.64313725, 0.58431373],\n",
              "         [0.65882353, 0.64705882, 0.58823529],\n",
              "         [0.71764706, 0.70980392, 0.65098039],\n",
              "         ...,\n",
              "         [0.45882353, 0.56862745, 0.47843137],\n",
              "         [0.44313725, 0.56078431, 0.46666667],\n",
              "         [0.41568627, 0.54117647, 0.45098039]]],\n",
              "\n",
              "\n",
              "       ...,\n",
              "\n",
              "\n",
              "       [[[0.39607843, 0.48235294, 0.70588235],\n",
              "         [0.39607843, 0.48235294, 0.70588235],\n",
              "         [0.4       , 0.48627451, 0.70980392],\n",
              "         ...,\n",
              "         [0.87058824, 0.80392157, 0.74117647],\n",
              "         [0.8627451 , 0.8       , 0.74117647],\n",
              "         [0.84313725, 0.78039216, 0.72941176]],\n",
              "\n",
              "        [[0.39607843, 0.48235294, 0.70588235],\n",
              "         [0.4       , 0.48627451, 0.70980392],\n",
              "         [0.4       , 0.48627451, 0.70980392],\n",
              "         ...,\n",
              "         [0.87058824, 0.80392157, 0.73333333],\n",
              "         [0.87058824, 0.80784314, 0.74901961],\n",
              "         [0.85882353, 0.79607843, 0.7372549 ]],\n",
              "\n",
              "        [[0.39607843, 0.48235294, 0.70588235],\n",
              "         [0.4       , 0.48627451, 0.70980392],\n",
              "         [0.4       , 0.48627451, 0.70980392],\n",
              "         ...,\n",
              "         [0.8627451 , 0.80392157, 0.72156863],\n",
              "         [0.86666667, 0.80392157, 0.74117647],\n",
              "         [0.8627451 , 0.8       , 0.7372549 ]],\n",
              "\n",
              "        ...,\n",
              "\n",
              "        [[0.72156863, 0.67058824, 0.60784314],\n",
              "         [0.68627451, 0.63529412, 0.60392157],\n",
              "         [0.63137255, 0.58039216, 0.61568627],\n",
              "         ...,\n",
              "         [0.43137255, 0.51764706, 0.37647059],\n",
              "         [0.42352941, 0.50980392, 0.36862745],\n",
              "         [0.42352941, 0.50980392, 0.36862745]],\n",
              "\n",
              "        [[0.7254902 , 0.6745098 , 0.6       ],\n",
              "         [0.68627451, 0.63529412, 0.6       ],\n",
              "         [0.62352941, 0.57254902, 0.6       ],\n",
              "         ...,\n",
              "         [0.42745098, 0.52156863, 0.38823529],\n",
              "         [0.42352941, 0.51764706, 0.38431373],\n",
              "         [0.42352941, 0.51764706, 0.38431373]],\n",
              "\n",
              "        [[0.72156863, 0.67058824, 0.59607843],\n",
              "         [0.67843137, 0.63137255, 0.58431373],\n",
              "         [0.61568627, 0.56470588, 0.59215686],\n",
              "         ...,\n",
              "         [0.43137255, 0.5254902 , 0.4       ],\n",
              "         [0.42745098, 0.52156863, 0.38823529],\n",
              "         [0.43137255, 0.5254902 , 0.39215686]]],\n",
              "\n",
              "\n",
              "       [[[0.51764706, 0.54117647, 0.43137255],\n",
              "         [0.52156863, 0.54509804, 0.43529412],\n",
              "         [0.5254902 , 0.54901961, 0.43921569],\n",
              "         ...,\n",
              "         [0.56862745, 0.55294118, 0.36470588],\n",
              "         [0.58823529, 0.56470588, 0.36862745],\n",
              "         [0.63137255, 0.60784314, 0.40392157]],\n",
              "\n",
              "        [[0.50980392, 0.52941176, 0.43921569],\n",
              "         [0.51764706, 0.5372549 , 0.44705882],\n",
              "         [0.52156863, 0.54117647, 0.45098039],\n",
              "         ...,\n",
              "         [0.83137255, 0.81568627, 0.63137255],\n",
              "         [0.69411765, 0.67058824, 0.48235294],\n",
              "         [0.69803922, 0.6745098 , 0.47843137]],\n",
              "\n",
              "        [[0.50980392, 0.52941176, 0.45098039],\n",
              "         [0.51764706, 0.5372549 , 0.45882353],\n",
              "         [0.5254902 , 0.54509804, 0.46666667],\n",
              "         ...,\n",
              "         [0.74509804, 0.7254902 , 0.56078431],\n",
              "         [0.79215686, 0.76470588, 0.59215686],\n",
              "         [0.72156863, 0.69411765, 0.51372549]],\n",
              "\n",
              "        ...,\n",
              "\n",
              "        [[0.56862745, 0.56470588, 0.48627451],\n",
              "         [0.51372549, 0.50980392, 0.43137255],\n",
              "         [0.4627451 , 0.45098039, 0.38431373],\n",
              "         ...,\n",
              "         [0.76078431, 0.74509804, 0.63921569],\n",
              "         [0.56078431, 0.54509804, 0.44705882],\n",
              "         [0.77647059, 0.75686275, 0.67058824]],\n",
              "\n",
              "        [[0.90196078, 0.89411765, 0.83529412],\n",
              "         [0.83921569, 0.83137255, 0.77254902],\n",
              "         [0.78431373, 0.77254902, 0.71372549],\n",
              "         ...,\n",
              "         [0.67058824, 0.65490196, 0.54117647],\n",
              "         [0.44313725, 0.42745098, 0.32941176],\n",
              "         [0.7372549 , 0.72156863, 0.62352941]],\n",
              "\n",
              "        [[0.72941176, 0.72156863, 0.6627451 ],\n",
              "         [0.73333333, 0.7254902 , 0.6745098 ],\n",
              "         [0.77647059, 0.76078431, 0.71372549],\n",
              "         ...,\n",
              "         [0.58039216, 0.56470588, 0.45098039],\n",
              "         [0.66666667, 0.65098039, 0.54509804],\n",
              "         [0.7372549 , 0.72156863, 0.62352941]]],\n",
              "\n",
              "\n",
              "       [[[0.78431373, 0.83137255, 0.77647059],\n",
              "         [0.79607843, 0.83921569, 0.78431373],\n",
              "         [0.79607843, 0.83921569, 0.78431373],\n",
              "         ...,\n",
              "         [0.68235294, 0.61568627, 0.5372549 ],\n",
              "         [0.30980392, 0.25098039, 0.17647059],\n",
              "         [0.70588235, 0.64705882, 0.57254902]],\n",
              "\n",
              "        [[0.81960784, 0.8627451 , 0.80784314],\n",
              "         [0.81568627, 0.85882353, 0.80392157],\n",
              "         [0.81176471, 0.84313725, 0.79215686],\n",
              "         ...,\n",
              "         [0.63921569, 0.57254902, 0.49411765],\n",
              "         [0.3254902 , 0.26666667, 0.19215686],\n",
              "         [0.72941176, 0.67058824, 0.59607843]],\n",
              "\n",
              "        [[0.81960784, 0.85098039, 0.8       ],\n",
              "         [0.81176471, 0.83529412, 0.78823529],\n",
              "         [0.80784314, 0.83137255, 0.77647059],\n",
              "         ...,\n",
              "         [0.56470588, 0.49803922, 0.41960784],\n",
              "         [0.36862745, 0.30980392, 0.23529412],\n",
              "         [0.78431373, 0.7254902 , 0.65098039]],\n",
              "\n",
              "        ...,\n",
              "\n",
              "        [[0.70588235, 0.68627451, 0.61176471],\n",
              "         [0.71764706, 0.69803922, 0.62352941],\n",
              "         [0.7254902 , 0.70588235, 0.63137255],\n",
              "         ...,\n",
              "         [0.9254902 , 0.78823529, 0.6627451 ],\n",
              "         [0.90196078, 0.81568627, 0.67058824],\n",
              "         [0.8745098 , 0.81960784, 0.66666667]],\n",
              "\n",
              "        [[0.70588235, 0.68627451, 0.61176471],\n",
              "         [0.71764706, 0.69803922, 0.62352941],\n",
              "         [0.72941176, 0.70980392, 0.63529412],\n",
              "         ...,\n",
              "         [0.89803922, 0.76862745, 0.64705882],\n",
              "         [0.88235294, 0.80392157, 0.66666667],\n",
              "         [0.87058824, 0.82352941, 0.6745098 ]],\n",
              "\n",
              "        [[0.70588235, 0.68627451, 0.61176471],\n",
              "         [0.72156863, 0.70196078, 0.62745098],\n",
              "         [0.72941176, 0.70980392, 0.63529412],\n",
              "         ...,\n",
              "         [0.88235294, 0.75294118, 0.63137255],\n",
              "         [0.87058824, 0.8       , 0.65882353],\n",
              "         [0.85882353, 0.82352941, 0.67058824]]]])"
            ]
          },
          "metadata": {
            "tags": []
          },
          "execution_count": 126
        }
      ]
    },
    {
      "cell_type": "markdown",
      "metadata": {
        "id": "GosNmIv49YuC",
        "colab_type": "text"
      },
      "source": [
        "### 目的変数であるラベルデータをone-hot-encodingしておきましょう\n",
        "- 今回は画像に付与される10種類のラベルを予測する問題です\n",
        "- この場合、モデルの出力は各ラベルに対する確率値となります\n",
        "    - output = [label1の確率, label2の確率, label3の確率, ..., label10の確率]\n",
        "- その為、学習データもこの形に合わせる必要がある為、ラベルデータをone-hot-encodingしましょう\n",
        "    - e.g) label2の場合は[0,1,0,0,0,0,0,0,0,0]とする\n",
        "- one-hot-encodingはkerasのutil.to_categorical関数が便利なので、こちらを利用します"
      ]
    },
    {
      "cell_type": "code",
      "metadata": {
        "id": "z6z1Yrb49YuC",
        "colab_type": "code",
        "colab": {
          "base_uri": "https://localhost:8080/",
          "height": 119
        },
        "outputId": "cb9ee22b-51f3-4a7d-81b6-200ab0dccf84"
      },
      "source": [
        "y = labels[\"label_id\"]\n",
        "y.head()"
      ],
      "execution_count": 127,
      "outputs": [
        {
          "output_type": "execute_result",
          "data": {
            "text/plain": [
              "0    1\n",
              "1    5\n",
              "2    1\n",
              "3    6\n",
              "4    3\n",
              "Name: label_id, dtype: int64"
            ]
          },
          "metadata": {
            "tags": []
          },
          "execution_count": 127
        }
      ]
    },
    {
      "cell_type": "code",
      "metadata": {
        "id": "Jo8pvva29YuE",
        "colab_type": "code",
        "colab": {}
      },
      "source": [
        "from keras import utils\n",
        "y_categorical = utils.to_categorical(y)"
      ],
      "execution_count": 0,
      "outputs": []
    },
    {
      "cell_type": "code",
      "metadata": {
        "id": "iVSqLbY49YuG",
        "colab_type": "code",
        "colab": {
          "base_uri": "https://localhost:8080/",
          "height": 136
        },
        "outputId": "28670468-f3ba-4553-bbde-599c0f3b4642"
      },
      "source": [
        "y_categorical"
      ],
      "execution_count": 129,
      "outputs": [
        {
          "output_type": "execute_result",
          "data": {
            "text/plain": [
              "array([[0., 1., 0., ..., 0., 0., 0.],\n",
              "       [0., 0., 0., ..., 0., 0., 0.],\n",
              "       [0., 1., 0., ..., 0., 0., 0.],\n",
              "       ...,\n",
              "       [0., 1., 0., ..., 0., 0., 0.],\n",
              "       [0., 0., 0., ..., 1., 0., 0.],\n",
              "       [0., 0., 0., ..., 0., 0., 0.]], dtype=float32)"
            ]
          },
          "metadata": {
            "tags": []
          },
          "execution_count": 129
        }
      ]
    },
    {
      "cell_type": "markdown",
      "metadata": {
        "id": "kek9TjaG9YuH",
        "colab_type": "text"
      },
      "source": [
        "### 学習パラメータの評価の為に、学習データを２つに分割しましょう\n",
        "- モデルのパラメータをチューニングする際には、学習データを構築/検証データに分割するという方策をとります\n",
        "- 構築データでモデルを学習し、学習に利用しなかった検証データを未知データとし、モデルの汎化性能を評価します\n",
        "- numpyではnp.split関数を使うことで、簡単にデータを分割することができます\n",
        "- 具体的には、`np.split(元の配列, [何番目で分割するかの数値])`と記述します\n",
        "    - より詳しくは例えば[こちら](https://note.nkmk.me/python-numpy-split/)を参考にして下さい"
      ]
    },
    {
      "cell_type": "code",
      "metadata": {
        "id": "IWDKmJu99YuI",
        "colab_type": "code",
        "colab": {
          "base_uri": "https://localhost:8080/",
          "height": 34
        },
        "outputId": "77fca0cd-44c5-426a-b3cf-1e475e5aa543"
      },
      "source": [
        "np.split([1,2,3,4,5],[3])"
      ],
      "execution_count": 130,
      "outputs": [
        {
          "output_type": "execute_result",
          "data": {
            "text/plain": [
              "[array([1, 2, 3]), array([4, 5])]"
            ]
          },
          "metadata": {
            "tags": []
          },
          "execution_count": 130
        }
      ]
    },
    {
      "cell_type": "markdown",
      "metadata": {
        "id": "uxglNS7I9YuR",
        "colab_type": "text"
      },
      "source": [
        "- 今回は学習データ5000枚中、4000枚を構築データ、残り1000枚を検証データとします\n",
        "- 構築用画像を`X_tr`、検証用画像を`X_val`としましょう\n",
        "- 同様に、構築用画像のラベルを`y_tr`、検証用画像のラベルを`y_val`としましょう"
      ]
    },
    {
      "cell_type": "code",
      "metadata": {
        "id": "EjeN7Mv-9YuS",
        "colab_type": "code",
        "colab": {}
      },
      "source": [
        "X_tr, X_val = np.split(train_imgs,[4000])\n",
        "y_tr, y_val = np.split(y_categorical, [4000])"
      ],
      "execution_count": 0,
      "outputs": []
    },
    {
      "cell_type": "code",
      "metadata": {
        "id": "xg3FOS2M9YuV",
        "colab_type": "code",
        "colab": {
          "base_uri": "https://localhost:8080/",
          "height": 51
        },
        "outputId": "9030aa7d-fbd0-4e5e-8b42-1085cced449d"
      },
      "source": [
        "print(X_tr.shape, X_val.shape)\n",
        "print(y_tr.shape, y_val.shape)"
      ],
      "execution_count": 132,
      "outputs": [
        {
          "output_type": "stream",
          "text": [
            "(4000, 96, 96, 3) (1000, 96, 96, 3)\n",
            "(4000, 10) (1000, 10)\n"
          ],
          "name": "stdout"
        }
      ]
    },
    {
      "cell_type": "markdown",
      "metadata": {
        "id": "okFvOUOs9YuY",
        "colab_type": "text"
      },
      "source": [
        "### Kerasの使い方の基本を学びましょう\n",
        "- 基本となる使い方は下記となります\n",
        "    1. `model = Sequential()`：モデルの箱を準備する\n",
        "    1. `model.add(XXX)`：add関数の中にモジュールを記述することで、Neural Networkの構造を追加していく\n",
        "    1. `model.compile(loss=\"xxx\", optimizer=\"yyy\", metrics=[\"zzz\"])`：損失関数やオプティマイザー、評価関数等を設定\n",
        "    1. `model.fit(trainX, y, batch_size, epoch, verbose=1, validation_data=(X_val, y_val))`：学習データやbatch_size, epoch等を設定して学習\n",
        "\n",
        "\n",
        "- 今回利用するモジュールは下記です\n",
        "    - Dense(X)：全結合層であり、Xはノード数を表す\n",
        "    - Conv2D（filters=X, kernel_size=(x,x), padding）：畳み込み層であり、Xはフィルタの数、(x,x)はフィルタの大きさを表す\n",
        "    - MaxPooling2D(pool_size=(x,x))：プーリング（max pooling）層であり、(x,x)はプーリング窓の大きさを表す\n",
        "    - Activation(\"xxx\")：活性化関数を表し、xxxに活性化関数（sigmoidやrelu）の前を記述する\n",
        "    - Flatten()：多次元配列を1次元配列に変換する。畳み込み層から全結合層へ接続する際に必要となる"
      ]
    },
    {
      "cell_type": "code",
      "metadata": {
        "id": "EyzzMnNk9YuZ",
        "colab_type": "code",
        "colab": {}
      },
      "source": [
        "from keras.models import Sequential\n",
        "from keras.layers import Dense, Flatten, Activation\n",
        "from keras.layers import Conv2D, MaxPooling2D\n",
        "from keras import optimizers"
      ],
      "execution_count": 0,
      "outputs": []
    },
    {
      "cell_type": "markdown",
      "metadata": {
        "id": "sc7jIko99Yub",
        "colab_type": "text"
      },
      "source": [
        "### 練習で下記構造をKerasで作ってみましょう\n",
        "- Sequentialを使い、モデルの箱を準備し、モデルに層を追加してみましょう"
      ]
    },
    {
      "cell_type": "markdown",
      "metadata": {
        "id": "rUqqh1P69Yuc",
        "colab_type": "text"
      },
      "source": [
        "<img src=\"https://github.com/kaoru387/image_process_try/blob/master/MLP.png?raw=1\" width=\"300\">"
      ]
    },
    {
      "cell_type": "code",
      "metadata": {
        "id": "tdyNeyE89Yud",
        "colab_type": "code",
        "colab": {}
      },
      "source": [
        "# 箱を用意\n",
        "model = Sequential()\n",
        "# 隠れ層→入力層\n",
        "model.add(Dense(10, input_shape=(51, )))\n",
        "#\n",
        "model.add(Activation(\"tanh\"))\n",
        "model.add(Dense(10))\n",
        "model.add(Activation(\"relu\"))\n",
        "model.add(Dense(1))\n",
        "model.add(Activation(\"sigmoid\"))"
      ],
      "execution_count": 0,
      "outputs": []
    },
    {
      "cell_type": "code",
      "metadata": {
        "id": "pJvL2coy9Yue",
        "colab_type": "code",
        "colab": {
          "base_uri": "https://localhost:8080/",
          "height": 340
        },
        "outputId": "c9f0ee94-2132-4d99-8bef-6281af74df6a"
      },
      "source": [
        "model.summary()"
      ],
      "execution_count": 135,
      "outputs": [
        {
          "output_type": "stream",
          "text": [
            "_________________________________________________________________\n",
            "Layer (type)                 Output Shape              Param #   \n",
            "=================================================================\n",
            "dense_22 (Dense)             (None, 10)                520       \n",
            "_________________________________________________________________\n",
            "activation_32 (Activation)   (None, 10)                0         \n",
            "_________________________________________________________________\n",
            "dense_23 (Dense)             (None, 10)                110       \n",
            "_________________________________________________________________\n",
            "activation_33 (Activation)   (None, 10)                0         \n",
            "_________________________________________________________________\n",
            "dense_24 (Dense)             (None, 1)                 11        \n",
            "_________________________________________________________________\n",
            "activation_34 (Activation)   (None, 1)                 0         \n",
            "=================================================================\n",
            "Total params: 641\n",
            "Trainable params: 641\n",
            "Non-trainable params: 0\n",
            "_________________________________________________________________\n"
          ],
          "name": "stdout"
        }
      ]
    },
    {
      "cell_type": "markdown",
      "metadata": {
        "id": "PYmnwQWr9Yuf",
        "colab_type": "text"
      },
      "source": [
        "### CNNを使って実際に学習をしてみよう"
      ]
    },
    {
      "cell_type": "markdown",
      "metadata": {
        "id": "kiQe8UXJ9Yug",
        "colab_type": "text"
      },
      "source": [
        "- model作成部分"
      ]
    },
    {
      "cell_type": "code",
      "metadata": {
        "id": "YBb_RY6D9Yug",
        "colab_type": "code",
        "colab": {}
      },
      "source": [
        "model = Sequential()\n",
        "model.add(Conv2D(filters=6, kernel_size=(3,3), padding=\"same\", input_shape=(96,96,3)))\n",
        "model.add(Activation(\"sigmoid\"))\n",
        "model.add(MaxPooling2D(pool_size=(2,2)))\n",
        "model.add(Conv2D(filters=12, kernel_size=(3,3), padding=\"same\"))\n",
        "model.add(Activation(\"sigmoid\"))\n",
        "model.add(MaxPooling2D(pool_size=(2,2)))\n",
        "model.add(Flatten())\n",
        "model.add(Dense(units=120))\n",
        "model.add(Activation(\"sigmoid\"))\n",
        "model.add(Dense(units=60))\n",
        "model.add(Activation(\"sigmoid\"))\n",
        "model.add(Dense(units=10))\n",
        "model.add(Activation(\"softmax\"))"
      ],
      "execution_count": 0,
      "outputs": []
    },
    {
      "cell_type": "code",
      "metadata": {
        "id": "SbqUSLxn9Yui",
        "colab_type": "code",
        "colab": {
          "base_uri": "https://localhost:8080/",
          "height": 578
        },
        "outputId": "18b2fce5-c11c-46b7-aa9a-ffba9fb082ae"
      },
      "source": [
        "model.summary()"
      ],
      "execution_count": 137,
      "outputs": [
        {
          "output_type": "stream",
          "text": [
            "_________________________________________________________________\n",
            "Layer (type)                 Output Shape              Param #   \n",
            "=================================================================\n",
            "conv2d_11 (Conv2D)           (None, 96, 96, 6)         168       \n",
            "_________________________________________________________________\n",
            "activation_35 (Activation)   (None, 96, 96, 6)         0         \n",
            "_________________________________________________________________\n",
            "max_pooling2d_11 (MaxPooling (None, 48, 48, 6)         0         \n",
            "_________________________________________________________________\n",
            "conv2d_12 (Conv2D)           (None, 48, 48, 12)        660       \n",
            "_________________________________________________________________\n",
            "activation_36 (Activation)   (None, 48, 48, 12)        0         \n",
            "_________________________________________________________________\n",
            "max_pooling2d_12 (MaxPooling (None, 24, 24, 12)        0         \n",
            "_________________________________________________________________\n",
            "flatten_6 (Flatten)          (None, 6912)              0         \n",
            "_________________________________________________________________\n",
            "dense_25 (Dense)             (None, 120)               829560    \n",
            "_________________________________________________________________\n",
            "activation_37 (Activation)   (None, 120)               0         \n",
            "_________________________________________________________________\n",
            "dense_26 (Dense)             (None, 60)                7260      \n",
            "_________________________________________________________________\n",
            "activation_38 (Activation)   (None, 60)                0         \n",
            "_________________________________________________________________\n",
            "dense_27 (Dense)             (None, 10)                610       \n",
            "_________________________________________________________________\n",
            "activation_39 (Activation)   (None, 10)                0         \n",
            "=================================================================\n",
            "Total params: 838,258\n",
            "Trainable params: 838,258\n",
            "Non-trainable params: 0\n",
            "_________________________________________________________________\n"
          ],
          "name": "stdout"
        }
      ]
    },
    {
      "cell_type": "markdown",
      "metadata": {
        "id": "5KD5zvH79Yuj",
        "colab_type": "text"
      },
      "source": [
        "- 学習に必要となる損失関数やオプティマイザーと、学習結果の確認の為の評価関数の設定\n",
        "    - SGDの細かいパラメータ詳細については[こちら](https://keras.io/ja/optimizers/)\n",
        "    - lr（学習率）が特に重要なパラメータです"
      ]
    },
    {
      "cell_type": "markdown",
      "metadata": {
        "id": "N9pQWzhzDcJx",
        "colab_type": "text"
      },
      "source": [
        "* SGD: 確率的勾配降下法"
      ]
    },
    {
      "cell_type": "code",
      "metadata": {
        "id": "1zvlYixB9Yuj",
        "colab_type": "code",
        "colab": {}
      },
      "source": [
        "model.compile(loss=\"categorical_crossentropy\",\n",
        "             optimizer=optimizers.SGD(lr=0.5, momentum=0.9, decay=0.0, nesterov=True),\n",
        "             metrics=[\"accuracy\"])"
      ],
      "execution_count": 0,
      "outputs": []
    },
    {
      "cell_type": "markdown",
      "metadata": {
        "id": "w9LBIHVo9Yul",
        "colab_type": "text"
      },
      "source": [
        "- batch_sizeとepochの設定"
      ]
    },
    {
      "cell_type": "code",
      "metadata": {
        "id": "spCJuZ-29Yum",
        "colab_type": "code",
        "colab": {}
      },
      "source": [
        "batch_size=100\n",
        "epochs=10"
      ],
      "execution_count": 0,
      "outputs": []
    },
    {
      "cell_type": "markdown",
      "metadata": {
        "id": "CZkP6VgK9Yup",
        "colab_type": "text"
      },
      "source": [
        "- モデルの学習"
      ]
    },
    {
      "cell_type": "code",
      "metadata": {
        "scrolled": true,
        "id": "RJZPTSYH9Yuq",
        "colab_type": "code",
        "colab": {
          "base_uri": "https://localhost:8080/",
          "height": 374
        },
        "outputId": "cbe1aba4-c107-419f-b14c-c6dc55c13589"
      },
      "source": [
        "history = model.fit(X_tr, y_tr,\n",
        "                    batch_size=batch_size,\n",
        "                    epochs=epochs,\n",
        "                    verbose=1,\n",
        "                    validation_data=(X_val, y_val))\n",
        "# verbose : 進捗がみたいとき1"
      ],
      "execution_count": 140,
      "outputs": [
        {
          "output_type": "stream",
          "text": [
            "Train on 4000 samples, validate on 1000 samples\n",
            "Epoch 1/10\n",
            "4000/4000 [==============================] - 2s 426us/step - loss: 2.3505 - acc: 0.0947 - val_loss: 2.3209 - val_acc: 0.1070\n",
            "Epoch 2/10\n",
            "4000/4000 [==============================] - 1s 305us/step - loss: 2.3148 - acc: 0.0950 - val_loss: 2.3108 - val_acc: 0.0880\n",
            "Epoch 3/10\n",
            "4000/4000 [==============================] - 1s 299us/step - loss: 2.3098 - acc: 0.0982 - val_loss: 2.3116 - val_acc: 0.1130\n",
            "Epoch 4/10\n",
            "4000/4000 [==============================] - 1s 301us/step - loss: 2.3122 - acc: 0.0890 - val_loss: 2.3121 - val_acc: 0.0990\n",
            "Epoch 5/10\n",
            "4000/4000 [==============================] - 1s 301us/step - loss: 2.3113 - acc: 0.0875 - val_loss: 2.3110 - val_acc: 0.0990\n",
            "Epoch 6/10\n",
            "4000/4000 [==============================] - 1s 296us/step - loss: 2.3119 - acc: 0.0955 - val_loss: 2.3180 - val_acc: 0.1050\n",
            "Epoch 7/10\n",
            "4000/4000 [==============================] - 1s 303us/step - loss: 2.3129 - acc: 0.0930 - val_loss: 2.3052 - val_acc: 0.0960\n",
            "Epoch 8/10\n",
            "4000/4000 [==============================] - 1s 306us/step - loss: 2.3108 - acc: 0.0940 - val_loss: 2.3178 - val_acc: 0.0960\n",
            "Epoch 9/10\n",
            "4000/4000 [==============================] - 1s 299us/step - loss: 2.3105 - acc: 0.1025 - val_loss: 2.3112 - val_acc: 0.0980\n",
            "Epoch 10/10\n",
            "4000/4000 [==============================] - 1s 299us/step - loss: 2.3131 - acc: 0.0950 - val_loss: 2.3124 - val_acc: 0.0970\n"
          ],
          "name": "stdout"
        }
      ]
    },
    {
      "cell_type": "markdown",
      "metadata": {
        "id": "Za6klufN9Yut",
        "colab_type": "text"
      },
      "source": [
        "### 学習曲線の可視化してみよう\n",
        "- 損失関数と評価関数の遷移を見ることで、モデルの学習が進んでいるのかや、過学習していないかを確認することができます"
      ]
    },
    {
      "cell_type": "code",
      "metadata": {
        "id": "E_9yGuzT9Yut",
        "colab_type": "code",
        "colab": {}
      },
      "source": [
        "def learning_plot(history, epochs):\n",
        "    fig = plt.figure(figsize=(15,5))\n",
        "    plt.subplot(1,2,1)\n",
        "    plt.plot(range(1,epochs+1), history.history['loss'])\n",
        "    plt.plot(range(1,epochs+1), history.history['val_loss'])\n",
        "    plt.title('model loss')\n",
        "    plt.xlabel('epoch')\n",
        "    plt.xticks(range(1,epochs+1))\n",
        "    plt.ylabel('loss')\n",
        "    plt.legend(['train', 'val'], loc='upper right')\n",
        "    plt.subplot(1,2,2)\n",
        "    plt.plot(range(1,epochs+1), history.history['acc'])\n",
        "    plt.plot(range(1,epochs+1), history.history['val_acc'])\n",
        "    plt.title('model accuracy')\n",
        "    plt.xlabel('epoch')\n",
        "    plt.xticks(range(1,epochs+1))\n",
        "    plt.ylabel('accuracy')\n",
        "    plt.legend(['train', 'val'], loc='upper left')\n",
        "    plt.show()"
      ],
      "execution_count": 0,
      "outputs": []
    },
    {
      "cell_type": "code",
      "metadata": {
        "id": "yx_zDL5I9Yuw",
        "colab_type": "code",
        "colab": {
          "base_uri": "https://localhost:8080/",
          "height": 350
        },
        "outputId": "1de0fd13-e8c1-4e2c-dc19-da3da338b4a9"
      },
      "source": [
        "learning_plot(history,epochs)"
      ],
      "execution_count": 142,
      "outputs": [
        {
          "output_type": "display_data",
          "data": {
            "image/png": "[encoded data removed]",
            "text/plain": [
              "<Figure size 1080x360 with 2 Axes>"
            ]
          },
          "metadata": {
            "tags": []
          }
        }
      ]
    },
    {
      "cell_type": "markdown",
      "metadata": {
        "id": "tAb477Vu9Yuz",
        "colab_type": "text"
      },
      "source": [
        "### 学習率を0.05にして再度モデルを学習し直してみよう\n",
        "- 学習が進んでいないのは学習率が高すぎる可能性があります"
      ]
    },
    {
      "cell_type": "code",
      "metadata": {
        "id": "01O18waY9Yuz",
        "colab_type": "code",
        "colab": {}
      },
      "source": [
        "model = Sequential()\n",
        "model.add(Conv2D(filters=6, kernel_size=(3,3), padding=\"same\", input_shape=(96,96,3)))\n",
        "model.add(Activation(\"sigmoid\"))\n",
        "model.add(MaxPooling2D(pool_size=(2,2)))\n",
        "model.add(Conv2D(filters=12, kernel_size=(3,3), padding=\"same\"))\n",
        "model.add(Activation(\"sigmoid\"))\n",
        "model.add(MaxPooling2D(pool_size=(2,2)))\n",
        "model.add(Flatten())\n",
        "model.add(Dense(units=120))\n",
        "model.add(Activation(\"sigmoid\"))\n",
        "model.add(Dense(units=60))\n",
        "model.add(Activation(\"sigmoid\"))\n",
        "model.add(Dense(units=10))\n",
        "model.add(Activation(\"softmax\"))"
      ],
      "execution_count": 0,
      "outputs": []
    },
    {
      "cell_type": "code",
      "metadata": {
        "id": "SXpK7nSg9Yu0",
        "colab_type": "code",
        "colab": {}
      },
      "source": [
        "model.compile(loss=\"categorical_crossentropy\",\n",
        "             optimizer=optimizers.SGD(lr=0.05, momentum=0.9, decay=0.0, nesterov=True),\n",
        "             metrics=[\"accuracy\"])"
      ],
      "execution_count": 0,
      "outputs": []
    },
    {
      "cell_type": "code",
      "metadata": {
        "id": "bPmL5-RM9Yu2",
        "colab_type": "code",
        "colab": {}
      },
      "source": [
        "batch_size=100\n",
        "epochs=20"
      ],
      "execution_count": 0,
      "outputs": []
    },
    {
      "cell_type": "code",
      "metadata": {
        "scrolled": true,
        "id": "cL6ZYTTE9Yu4",
        "colab_type": "code",
        "colab": {
          "base_uri": "https://localhost:8080/",
          "height": 714
        },
        "outputId": "c132f176-3b89-4259-c49f-e55c7270c1c8"
      },
      "source": [
        "history = model.fit(X_tr, y_tr,\n",
        "                    batch_size=batch_size,\n",
        "                    epochs=epochs,\n",
        "                    verbose=1,\n",
        "                    validation_data=(X_val, y_val))"
      ],
      "execution_count": 146,
      "outputs": [
        {
          "output_type": "stream",
          "text": [
            "Train on 4000 samples, validate on 1000 samples\n",
            "Epoch 1/20\n",
            "4000/4000 [==============================] - 2s 468us/step - loss: 2.3296 - acc: 0.0965 - val_loss: 2.3152 - val_acc: 0.0980\n",
            "Epoch 2/20\n",
            "4000/4000 [==============================] - 1s 338us/step - loss: 2.3150 - acc: 0.1065 - val_loss: 2.3162 - val_acc: 0.0980\n",
            "Epoch 3/20\n",
            "4000/4000 [==============================] - 1s 323us/step - loss: 2.3119 - acc: 0.0977 - val_loss: 2.3160 - val_acc: 0.1070\n",
            "Epoch 4/20\n",
            "4000/4000 [==============================] - 1s 308us/step - loss: 2.3113 - acc: 0.0982 - val_loss: 2.3069 - val_acc: 0.1150\n",
            "Epoch 5/20\n",
            "4000/4000 [==============================] - 1s 313us/step - loss: 2.3105 - acc: 0.1007 - val_loss: 2.3200 - val_acc: 0.0980\n",
            "Epoch 6/20\n",
            "4000/4000 [==============================] - 1s 306us/step - loss: 2.3107 - acc: 0.0990 - val_loss: 2.3113 - val_acc: 0.0940\n",
            "Epoch 7/20\n",
            "4000/4000 [==============================] - 1s 306us/step - loss: 2.3093 - acc: 0.0952 - val_loss: 2.3126 - val_acc: 0.0940\n",
            "Epoch 8/20\n",
            "4000/4000 [==============================] - 1s 325us/step - loss: 2.3086 - acc: 0.0907 - val_loss: 2.3083 - val_acc: 0.0880\n",
            "Epoch 9/20\n",
            "4000/4000 [==============================] - 1s 326us/step - loss: 2.3083 - acc: 0.0907 - val_loss: 2.3106 - val_acc: 0.1050\n",
            "Epoch 10/20\n",
            "4000/4000 [==============================] - 1s 326us/step - loss: 2.3079 - acc: 0.1000 - val_loss: 2.3104 - val_acc: 0.1070\n",
            "Epoch 11/20\n",
            "4000/4000 [==============================] - 1s 316us/step - loss: 2.3092 - acc: 0.1010 - val_loss: 2.3045 - val_acc: 0.0970\n",
            "Epoch 12/20\n",
            "4000/4000 [==============================] - 1s 313us/step - loss: 2.3050 - acc: 0.1052 - val_loss: 2.3048 - val_acc: 0.0960\n",
            "Epoch 13/20\n",
            "4000/4000 [==============================] - 1s 314us/step - loss: 2.3050 - acc: 0.1007 - val_loss: 2.3048 - val_acc: 0.0940\n",
            "Epoch 14/20\n",
            "4000/4000 [==============================] - 1s 313us/step - loss: 2.3046 - acc: 0.0978 - val_loss: 2.2983 - val_acc: 0.1070\n",
            "Epoch 15/20\n",
            "4000/4000 [==============================] - 1s 314us/step - loss: 2.3011 - acc: 0.1138 - val_loss: 2.2957 - val_acc: 0.1110\n",
            "Epoch 16/20\n",
            "4000/4000 [==============================] - 1s 314us/step - loss: 2.2920 - acc: 0.1310 - val_loss: 2.2798 - val_acc: 0.2160\n",
            "Epoch 17/20\n",
            "4000/4000 [==============================] - 1s 308us/step - loss: 2.2487 - acc: 0.1858 - val_loss: 2.2020 - val_acc: 0.1790\n",
            "Epoch 18/20\n",
            "4000/4000 [==============================] - 1s 307us/step - loss: 2.1023 - acc: 0.2263 - val_loss: 2.0338 - val_acc: 0.2350\n",
            "Epoch 19/20\n",
            "4000/4000 [==============================] - 1s 305us/step - loss: 1.9829 - acc: 0.2487 - val_loss: 1.9704 - val_acc: 0.2400\n",
            "Epoch 20/20\n",
            "4000/4000 [==============================] - 1s 307us/step - loss: 1.9358 - acc: 0.2660 - val_loss: 1.9438 - val_acc: 0.2620\n"
          ],
          "name": "stdout"
        }
      ]
    },
    {
      "cell_type": "code",
      "metadata": {
        "id": "WC8mMKK_9Yu5",
        "colab_type": "code",
        "colab": {
          "base_uri": "https://localhost:8080/",
          "height": 350
        },
        "outputId": "3356a60c-4a90-4c16-c3eb-5ad386154aee"
      },
      "source": [
        "learning_plot(history,epochs)"
      ],
      "execution_count": 147,
      "outputs": [
        {
          "output_type": "display_data",
          "data": {
            "image/png": "[encoded data removed]",
            "text/plain": [
              "<Figure size 1080x360 with 2 Axes>"
            ]
          },
          "metadata": {
            "tags": []
          }
        }
      ]
    },
    {
      "cell_type": "markdown",
      "metadata": {
        "id": "Hnby-VIA9Yu6",
        "colab_type": "text"
      },
      "source": [
        "### 演習①　活性化関数をsigmoidからreluに変換し、学習をし直してみましょう"
      ]
    },
    {
      "cell_type": "code",
      "metadata": {
        "id": "PAzWEAqn9Yu7",
        "colab_type": "code",
        "colab": {}
      },
      "source": [
        ""
      ],
      "execution_count": 0,
      "outputs": []
    },
    {
      "cell_type": "code",
      "metadata": {
        "id": "jae7UFRl9Yu8",
        "colab_type": "code",
        "colab": {}
      },
      "source": [
        ""
      ],
      "execution_count": 0,
      "outputs": []
    },
    {
      "cell_type": "code",
      "metadata": {
        "id": "XUqztcGr9Yu9",
        "colab_type": "code",
        "colab": {}
      },
      "source": [
        ""
      ],
      "execution_count": 0,
      "outputs": []
    },
    {
      "cell_type": "code",
      "metadata": {
        "id": "gAeoVHSR9Yu_",
        "colab_type": "code",
        "colab": {}
      },
      "source": [
        ""
      ],
      "execution_count": 0,
      "outputs": []
    },
    {
      "cell_type": "code",
      "metadata": {
        "id": "Fm8zDJsC9YvB",
        "colab_type": "code",
        "colab": {}
      },
      "source": [
        ""
      ],
      "execution_count": 0,
      "outputs": []
    },
    {
      "cell_type": "markdown",
      "metadata": {
        "id": "OVxnX9lr9YvF",
        "colab_type": "text"
      },
      "source": [
        "### 作ったモデルを使い、test_imgsの画像へのラベル予測を行い、SIGNATEに投稿してみましょう\n",
        "- 予測は`model.predict`関数を使います\n",
        "- 予測結果はpred = [label1の確率, label2の確率, ..., label10の確率]と返ってきますが、label_idを1つに決める必要があります\n",
        "- その為、`argmax(axis=1)`関数を使い、一番確率値が高いindexを取得します（indexはlabel_idと一致している為）"
      ]
    },
    {
      "cell_type": "code",
      "metadata": {
        "id": "X2YWTEjd9YvF",
        "colab_type": "code",
        "colab": {}
      },
      "source": [
        "pred = model.predict(test_imgs)\n",
        "pred"
      ],
      "execution_count": 0,
      "outputs": []
    },
    {
      "cell_type": "code",
      "metadata": {
        "id": "9nrDy4lt9YvH",
        "colab_type": "code",
        "colab": {}
      },
      "source": [
        "pred = pred.argmax(axis=1)\n",
        "pred"
      ],
      "execution_count": 0,
      "outputs": []
    },
    {
      "cell_type": "code",
      "metadata": {
        "id": "Y7StlDOE9YvI",
        "colab_type": "code",
        "colab": {}
      },
      "source": [
        "sample[1] = pred\n",
        "sample.to_csv(\"submit1.tsv\", sep=\"\\t\", index=None, header=None)"
      ],
      "execution_count": 0,
      "outputs": []
    },
    {
      "cell_type": "markdown",
      "metadata": {
        "id": "gLE8V9V59YvL",
        "colab_type": "text"
      },
      "source": [
        "### 演習②　今度はオプティマイザーをAdamに変更してモデルを学習し、予測結果をSIGNATEに投稿しましょう\n",
        "- Adamを使う為には、`optimizer.Adam()`と記述します\n",
        "- 投稿ファイルは`submit2.tsv`というファイル名で保存しましょう"
      ]
    },
    {
      "cell_type": "code",
      "metadata": {
        "id": "mPjSWXcC9YvL",
        "colab_type": "code",
        "colab": {}
      },
      "source": [
        ""
      ],
      "execution_count": 0,
      "outputs": []
    },
    {
      "cell_type": "code",
      "metadata": {
        "id": "Gn3skvH89YvN",
        "colab_type": "code",
        "colab": {}
      },
      "source": [
        ""
      ],
      "execution_count": 0,
      "outputs": []
    },
    {
      "cell_type": "code",
      "metadata": {
        "id": "t5fTus6W9YvP",
        "colab_type": "code",
        "colab": {}
      },
      "source": [
        ""
      ],
      "execution_count": 0,
      "outputs": []
    },
    {
      "cell_type": "code",
      "metadata": {
        "id": "od5xbnu39YvS",
        "colab_type": "code",
        "colab": {}
      },
      "source": [
        ""
      ],
      "execution_count": 0,
      "outputs": []
    },
    {
      "cell_type": "code",
      "metadata": {
        "id": "XbxvdaDt9YvU",
        "colab_type": "code",
        "colab": {}
      },
      "source": [
        ""
      ],
      "execution_count": 0,
      "outputs": []
    },
    {
      "cell_type": "code",
      "metadata": {
        "id": "bM5VlulY9YvV",
        "colab_type": "code",
        "colab": {}
      },
      "source": [
        ""
      ],
      "execution_count": 0,
      "outputs": []
    },
    {
      "cell_type": "markdown",
      "metadata": {
        "id": "EgYNm7X99YvX",
        "colab_type": "text"
      },
      "source": [
        "### 演習③　層を１つ又は２つ程度追加し、精度を検証してみましょう\n",
        "- 良いパラメータがあれば、SIGNATEにも投稿してみましょう\n",
        "- filtersの値やkernel_sizeの値も変更してみましょう"
      ]
    },
    {
      "cell_type": "code",
      "metadata": {
        "id": "AbL7Zoul9YvX",
        "colab_type": "code",
        "colab": {}
      },
      "source": [
        ""
      ],
      "execution_count": 0,
      "outputs": []
    },
    {
      "cell_type": "code",
      "metadata": {
        "id": "vA1nyEiY9Yva",
        "colab_type": "code",
        "colab": {}
      },
      "source": [
        ""
      ],
      "execution_count": 0,
      "outputs": []
    },
    {
      "cell_type": "code",
      "metadata": {
        "id": "EK5WGzEN9Yvb",
        "colab_type": "code",
        "colab": {}
      },
      "source": [
        ""
      ],
      "execution_count": 0,
      "outputs": []
    },
    {
      "cell_type": "code",
      "metadata": {
        "id": "ioaTtG9P9Yvc",
        "colab_type": "code",
        "colab": {}
      },
      "source": [
        ""
      ],
      "execution_count": 0,
      "outputs": []
    },
    {
      "cell_type": "code",
      "metadata": {
        "id": "fv6F-MW29Yvf",
        "colab_type": "code",
        "colab": {}
      },
      "source": [
        ""
      ],
      "execution_count": 0,
      "outputs": []
    },
    {
      "cell_type": "code",
      "metadata": {
        "id": "YaONegO69Yvg",
        "colab_type": "code",
        "colab": {}
      },
      "source": [
        ""
      ],
      "execution_count": 0,
      "outputs": []
    },
    {
      "cell_type": "code",
      "metadata": {
        "id": "HOZwFX-Z9Yvh",
        "colab_type": "code",
        "colab": {}
      },
      "source": [
        ""
      ],
      "execution_count": 0,
      "outputs": []
    },
    {
      "cell_type": "markdown",
      "metadata": {
        "id": "ika1b2LE9Yvi",
        "colab_type": "text"
      },
      "source": [
        "### 精度の検証をしてみよう\n",
        "- 今回作成したモデルがどんな画像に対して当たっていて、どんな画像を外しているのかを確かめることも重要です\n",
        "- 今回のようにラベル自体を出力結果とする時には混合行列を算出し、確かめることをします\n",
        "- まず、検証用データに対する予測値を求め、sklearnのconfusion_matrix関数を使い、混合行列を求めます"
      ]
    },
    {
      "cell_type": "code",
      "metadata": {
        "id": "LRp0oC3u9Yvj",
        "colab_type": "code",
        "colab": {}
      },
      "source": [
        "pred = model.predict(X_val)\n",
        "pred = pred.argmax(axis=1)"
      ],
      "execution_count": 0,
      "outputs": []
    },
    {
      "cell_type": "code",
      "metadata": {
        "id": "JuPdvH4T9Yvk",
        "colab_type": "code",
        "colab": {}
      },
      "source": [
        "from sklearn.metrics import confusion_matrix\n",
        "\n",
        "cm = confusion_matrix(y_val.argmax(axis=1), pred)\n",
        "cm"
      ],
      "execution_count": 0,
      "outputs": []
    },
    {
      "cell_type": "markdown",
      "metadata": {
        "id": "w4Vndl2B9Yvl",
        "colab_type": "text"
      },
      "source": [
        "- 続いて生成したconfusion_matrixを見やすくするためにヒートマップを描きます"
      ]
    },
    {
      "cell_type": "code",
      "metadata": {
        "id": "3DlhHr2T9Yvm",
        "colab_type": "code",
        "colab": {}
      },
      "source": [
        "def plot_confusion_matrix(cm, classes, title='Confusion Matrix', cmap=plt.cm.Blues):\n",
        "    fig, ax = plt.subplots(figsize=(8, 8))\n",
        "    im = ax.imshow(cm, interpolation='nearest', cmap=cmap)\n",
        "    ax.figure.colorbar(im, ax=ax)\n",
        "    ax.set(xticks=np.arange(cm.shape[1]),\n",
        "           yticks=np.arange(cm.shape[0]))\n",
        "    ax.set_title(title, size=20)\n",
        "    ax.set_ylabel('True label', fontsize=15)\n",
        "    ax.set_xlabel('Predicted label', fontsize=15)\n",
        "    ax.set_xticklabels(classes, fontsize=15)\n",
        "    ax.set_yticklabels(classes, fontsize=15)\n",
        "    plt.setp(ax.get_xticklabels(), rotation=45, ha='right',\n",
        "             rotation_mode='anchor')\n",
        "\n",
        "    fmt = 'd'\n",
        "    thresh = cm.max() / 2.\n",
        "    for i in range(cm.shape[0]):\n",
        "        for j in range(cm.shape[1]):\n",
        "            ax.text(j, i, format(cm[i, j], fmt), fontsize=20,\n",
        "                    ha='center', va='center',\n",
        "                    color='white' if cm[i, j] > thresh else 'black')\n",
        "    fig.tight_layout()\n",
        "    return ax"
      ],
      "execution_count": 0,
      "outputs": []
    },
    {
      "cell_type": "code",
      "metadata": {
        "id": "-0dMFK_49Yvn",
        "colab_type": "code",
        "colab": {}
      },
      "source": [
        "plot_confusion_matrix(cm, master[\"label_name\"].values)\n",
        "plt.show()"
      ],
      "execution_count": 0,
      "outputs": []
    },
    {
      "cell_type": "code",
      "metadata": {
        "id": "JsoIi_wU9Yvo",
        "colab_type": "code",
        "colab": {}
      },
      "source": [
        "def plot_img(true_label, pred_label,pred,y_val):\n",
        "    tmp = pd.DataFrame({\"pred\":pred,\"true\":y_val.argmax(axis=1)})\n",
        "    tix = master[master[\"label_name\"]==true_label][\"label_id\"].values[0]\n",
        "    pix = master[master[\"label_name\"]==pred_label][\"label_id\"].values[0]\n",
        "    tmp = tmp[(tmp[\"pred\"]==pix)&(tmp[\"true\"]==tix)]\n",
        "    \n",
        "    if tmp.shape[0] > 0:    \n",
        "        n = int(np.ceil(np.sqrt(tmp.shape[0])))\n",
        "        fig = plt.figure(figsize=(n+5,n+5))\n",
        "        fig.subplots_adjust(left=0, right=0.5, bottom=0, top=0.5, hspace=0.05, wspace=0.05)\n",
        "        for i,v in enumerate(tmp.index):\n",
        "            ax = fig.add_subplot(n, n, i + 1, xticks=[], yticks=[])\n",
        "            ax.imshow(X_val[v])"
      ],
      "execution_count": 0,
      "outputs": []
    },
    {
      "cell_type": "code",
      "metadata": {
        "id": "j-zA1lGb9Yvq",
        "colab_type": "code",
        "colab": {}
      },
      "source": [
        "plot_img(true_label=\"dog\", pred_label=\"cat\", pred=pred, y_val=y_val)"
      ],
      "execution_count": 0,
      "outputs": []
    },
    {
      "cell_type": "code",
      "metadata": {
        "id": "JCItuGZq9Yvs",
        "colab_type": "code",
        "colab": {}
      },
      "source": [
        "plot_img(true_label=\"cat\", pred_label=\"dog\", pred=pred, y_val=y_val)"
      ],
      "execution_count": 0,
      "outputs": []
    },
    {
      "cell_type": "markdown",
      "metadata": {
        "id": "SPDPbUQm9Yvv",
        "colab_type": "text"
      },
      "source": [
        "### ラベル別の正解率を算出してみよう\n",
        "- confusion_matrixを使えば、ラベル別に正解率を見ることもできます\n",
        "- diagonal関数は対角成分（つまり各ラベルで正解した数）のみを抽出することができます\n",
        "- 従って「ラベルの正解数÷ラベルの総数」により、各ラベルの正解率を求めることができます"
      ]
    },
    {
      "cell_type": "code",
      "metadata": {
        "id": "LnEhy7zN9Yvv",
        "colab_type": "code",
        "colab": {}
      },
      "source": [
        "acc = cm.diagonal()/cm.sum(axis=1)\n",
        "ac1 = pd.DataFrame({\"label\":master[\"label_name\"], \"Accuracy\":acc})\n",
        "ac1"
      ],
      "execution_count": 0,
      "outputs": []
    },
    {
      "cell_type": "markdown",
      "metadata": {
        "id": "tizzO50o9Yvx",
        "colab_type": "text"
      },
      "source": [
        "### モデルの保存の仕方とモデルの読み込み方について知ろう\n",
        "- モデルはHDF5というファイルとして保存される為、拡張子は「.h5」とします\n",
        "- 保存は`model.save()`、読み込みは`load_model()`を使います"
      ]
    },
    {
      "cell_type": "code",
      "metadata": {
        "id": "lZmeUc5O9Yvx",
        "colab_type": "code",
        "colab": {}
      },
      "source": [
        "file_path = 'my_model.h5'\n",
        "model.save(file_path)"
      ],
      "execution_count": 0,
      "outputs": []
    },
    {
      "cell_type": "code",
      "metadata": {
        "id": "sRIM27y49Yvz",
        "colab_type": "code",
        "colab": {}
      },
      "source": [
        "from keras.models import load_model\n",
        "\n",
        "model = load_model(file_path)"
      ],
      "execution_count": 0,
      "outputs": []
    },
    {
      "cell_type": "markdown",
      "metadata": {
        "id": "IwqRC_Ta9Yv0",
        "colab_type": "text"
      },
      "source": [
        "## ▼更に精度向上を狙い、Data Augmentationを試してみよう\n",
        "- Data Augmentationとはデータを水増しすることで、画像のパターンを増やして汎化性能を上げることを狙った手法を言います\n",
        "- Data Augmentationは学習データに対する水増しと、予測データに対する水増しの2種類あります。\n",
        "    - 後者はtest time augmentation（TTA）と呼ばれます\n",
        "- 今回は前者の学習データに対する水増しの方法を学びましょう"
      ]
    },
    {
      "cell_type": "markdown",
      "metadata": {
        "id": "tnR-cH0q9Yv1",
        "colab_type": "text"
      },
      "source": [
        "### kerasのライブラリを使い、データ水増し器を作ろう\n",
        "- scikit-image等を使いデータ水増しをすることもできますが、簡単な画像処理であればkerasに便利なライブラリ「ImageDataGenerator」があります"
      ]
    },
    {
      "cell_type": "code",
      "metadata": {
        "id": "fzDE3j7L9Yv1",
        "colab_type": "code",
        "colab": {}
      },
      "source": [
        "from keras.preprocessing.image import ImageDataGenerator"
      ],
      "execution_count": 0,
      "outputs": []
    },
    {
      "cell_type": "markdown",
      "metadata": {
        "id": "fnuZIgaa9Yv2",
        "colab_type": "text"
      },
      "source": [
        "### ジェネレーターの使い方を学ぼう\n",
        "- 基本的な画像操作の指定方法は下記です（より詳細は[こちら](https://keras.io/ja/preprocessing/image/)）\n",
        "    1. 平行移動：height_shift_rangeとwidth_shift_rangeに平行移動させる割合（0.0-1.0）を設定する\n",
        "    1. 反転：上下ならvertical_flip、左右ならhorizotal_flipをTrueにする\n",
        "    1. 回転：rotation_rangeに最大回転角度の数値を設定する\n",
        "    \n",
        "\n",
        "- ジェネレーターの使い方は下記のようになります\n",
        "    1. 画像操作の内容を指定したジェネレーターを宣言する\n",
        "    1. flow関数を使い、iteratorを作る。その際、batch_sizeの指定が必要"
      ]
    },
    {
      "cell_type": "code",
      "metadata": {
        "id": "3bHSNe8w9Yv2",
        "colab_type": "code",
        "colab": {}
      },
      "source": [
        "img = train_imgs[1:2,]\n",
        "batch_size = 1\n",
        "\n",
        "# 平行移動\n",
        "g1 = ImageDataGenerator(height_shift_range=0.5, width_shift_range=0.5)\n",
        "i1 = g1.flow(img, batch_size=batch_size)\n",
        "\n",
        "# 左右反転\n",
        "g2 = ImageDataGenerator(horizontal_flip=True)\n",
        "i2 = g2.flow(img, batch_size=batch_size)\n",
        "\n",
        "# 回転\n",
        "g3 = ImageDataGenerator(rotation_range=90)\n",
        "i3 = g3.flow(img, batch_size=batch_size)"
      ],
      "execution_count": 0,
      "outputs": []
    },
    {
      "cell_type": "code",
      "metadata": {
        "id": "f66vzZD-9Yv3",
        "colab_type": "code",
        "colab": {}
      },
      "source": [
        "fig, ax = plt.subplots(3,5,figsize=(10,5))\n",
        "i = 0\n",
        "for a,b,c in zip(i1,i2,i3):\n",
        "    if i > 4:\n",
        "        break\n",
        "    ax[0][i].imshow(a[0])\n",
        "    ax[1][i].imshow(b[0])\n",
        "    ax[2][i].imshow(c[0])\n",
        "    i+=1\n",
        "ax[0][4].text(105,55,\"<- shift images\",fontsize=20)\n",
        "ax[1][4].text(105,55,\"<- flip images\",fontsize=20)\n",
        "ax[2][4].text(105,55,\"<- rotate images\",fontsize=20)\n",
        "plt.show()"
      ],
      "execution_count": 0,
      "outputs": []
    },
    {
      "cell_type": "markdown",
      "metadata": {
        "id": "-snxZay59Yv4",
        "colab_type": "text"
      },
      "source": [
        "### Data Augmentationを使い、モデルを学習しましょう"
      ]
    },
    {
      "cell_type": "code",
      "metadata": {
        "id": "GOCMtOhZ9Yv4",
        "colab_type": "code",
        "colab": {}
      },
      "source": [
        "model = Sequential()\n",
        "model.add(Conv2D(filters=12, kernel_size=(3,3), padding=\"same\", input_shape=(96,96,3)))\n",
        "model.add(Activation(\"relu\"))\n",
        "model.add(MaxPooling2D(pool_size=(2,2)))\n",
        "model.add(Conv2D(filters=24, kernel_size=(3,3), padding=\"same\"))\n",
        "model.add(Activation(\"relu\"))\n",
        "model.add(MaxPooling2D(pool_size=(2,2)))\n",
        "model.add(Conv2D(filters=36, kernel_size=(3,3), padding=\"same\"))\n",
        "model.add(Activation(\"relu\"))\n",
        "model.add(MaxPooling2D(pool_size=(2,2)))\n",
        "model.add(Flatten())\n",
        "model.add(Dense(units=120))\n",
        "model.add(Activation(\"relu\"))\n",
        "model.add(Dense(units=60))\n",
        "model.add(Activation(\"relu\"))\n",
        "model.add(Dense(units=10))\n",
        "model.add(Activation(\"softmax\"))"
      ],
      "execution_count": 0,
      "outputs": []
    },
    {
      "cell_type": "code",
      "metadata": {
        "id": "TH-W1aeU9Yv6",
        "colab_type": "code",
        "colab": {}
      },
      "source": [
        "model.compile(loss=\"categorical_crossentropy\",\n",
        "             optimizer=optimizers.Adam(),\n",
        "             metrics=[\"accuracy\"])"
      ],
      "execution_count": 0,
      "outputs": []
    },
    {
      "cell_type": "code",
      "metadata": {
        "id": "IEgzfMST9Yv7",
        "colab_type": "code",
        "colab": {}
      },
      "source": [
        "batch_size=100\n",
        "epochs=60"
      ],
      "execution_count": 0,
      "outputs": []
    },
    {
      "cell_type": "markdown",
      "metadata": {
        "id": "TxGvydsp9Yv8",
        "colab_type": "text"
      },
      "source": [
        "- Data AugumentationのGeneratorを生成\n",
        "    - ここでは`height_shift_range=0.2, width_shift_range=0.2, horizontal_flip=True`とします"
      ]
    },
    {
      "cell_type": "code",
      "metadata": {
        "id": "3f4I3L3u9Yv9",
        "colab_type": "code",
        "colab": {}
      },
      "source": [
        "# 構築データ用のジェネレーター\n",
        "datagen = ImageDataGenerator(height_shift_range=0.2, width_shift_range=0.2, horizontal_flip=True)\n",
        "iterator = datagen.flow(X_tr, y_tr, batch_size=batch_size)\n",
        "\n",
        "# 検証データ用のジェネレーター（特に何もしない）\n",
        "datagen_val = ImageDataGenerator()\n",
        "iterator_val = datagen_val.flow(X_val, y_val, batch_size=1, shuffle=False)"
      ],
      "execution_count": 0,
      "outputs": []
    },
    {
      "cell_type": "markdown",
      "metadata": {
        "id": "cseWWWvq9Yv-",
        "colab_type": "text"
      },
      "source": [
        "- Generatorを使い学習をする場合には、fit関数ではなく、fit_generator関数を代わりに使います\n",
        "- この時、steps_per_epochを指定する必要がありますが、これは1epochあたり何ステップ実施するかを意味します\n",
        "    - 通常はデータサイズ÷バッチサイズとします\n",
        "    - batch_size=100ならば、1stepあたり100枚学習に使うことになるので、4000枚の学習画像全てを網羅する為には4000/100=40回必要になる為"
      ]
    },
    {
      "cell_type": "code",
      "metadata": {
        "scrolled": true,
        "id": "xnviD-An9Yv-",
        "colab_type": "code",
        "colab": {}
      },
      "source": [
        "history = model.fit_generator(generator=iterator, \n",
        "                              steps_per_epoch=len(X_tr)/batch_size, \n",
        "                              epochs=epochs, \n",
        "                              validation_data = iterator_val,\n",
        "                              validation_steps = len(X_val))"
      ],
      "execution_count": 0,
      "outputs": []
    },
    {
      "cell_type": "code",
      "metadata": {
        "id": "Z_qu8PAm9Yv_",
        "colab_type": "code",
        "colab": {}
      },
      "source": [
        "learning_plot(history,epochs)"
      ],
      "execution_count": 0,
      "outputs": []
    },
    {
      "cell_type": "markdown",
      "metadata": {
        "id": "VbJqqafB9YwA",
        "colab_type": "text"
      },
      "source": [
        "### 精度の検証をしてみよう"
      ]
    },
    {
      "cell_type": "code",
      "metadata": {
        "id": "6DCNCjZp9YwB",
        "colab_type": "code",
        "colab": {}
      },
      "source": [
        "pred = model.predict(X_val)\n",
        "pred = pred.argmax(axis=1)\n",
        "cm = confusion_matrix(y_val.argmax(axis=1), pred)"
      ],
      "execution_count": 0,
      "outputs": []
    },
    {
      "cell_type": "code",
      "metadata": {
        "id": "5meq3Dim9YwC",
        "colab_type": "code",
        "colab": {}
      },
      "source": [
        "plot_confusion_matrix(cm, master[\"label_name\"].values)\n",
        "plt.show()"
      ],
      "execution_count": 0,
      "outputs": []
    },
    {
      "cell_type": "code",
      "metadata": {
        "id": "nnqp6p369YwD",
        "colab_type": "code",
        "colab": {}
      },
      "source": [
        "plot_img(true_label=\"dog\", pred_label=\"cat\", pred=pred, y_val=y_val)"
      ],
      "execution_count": 0,
      "outputs": []
    },
    {
      "cell_type": "code",
      "metadata": {
        "id": "TvFlzbRx9YwE",
        "colab_type": "code",
        "colab": {}
      },
      "source": [
        "plot_img(true_label=\"cat\", pred_label=\"dog\", pred=pred, y_val=y_val)"
      ],
      "execution_count": 0,
      "outputs": []
    },
    {
      "cell_type": "code",
      "metadata": {
        "id": "KZbekwXV9YwF",
        "colab_type": "code",
        "colab": {}
      },
      "source": [
        "acc = cm.diagonal()/cm.sum(axis=1)\n",
        "ac2 = pd.DataFrame({\"label\":master[\"label_name\"], \"Accuracy\":acc})\n",
        "ac2"
      ],
      "execution_count": 0,
      "outputs": []
    },
    {
      "cell_type": "code",
      "metadata": {
        "id": "ioSW-c9g9YwH",
        "colab_type": "code",
        "colab": {}
      },
      "source": [
        "ac1"
      ],
      "execution_count": 0,
      "outputs": []
    },
    {
      "cell_type": "markdown",
      "metadata": {
        "id": "P1DElkB-9YwK",
        "colab_type": "text"
      },
      "source": [
        "### 応募用ファイルを作り、SIGNATEに投稿してみよう"
      ]
    },
    {
      "cell_type": "code",
      "metadata": {
        "id": "uxecRUai9YwK",
        "colab_type": "code",
        "colab": {}
      },
      "source": [
        "pred = model.predict(test_imgs)\n",
        "pred = pred.argmax(axis=1)\n",
        "sample[1] = pred\n",
        "sample.to_csv(\"submit4.tsv\", sep=\"\\t\", index=None, header=None)"
      ],
      "execution_count": 0,
      "outputs": []
    }
  ]
}